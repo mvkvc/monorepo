{
 "cells": [
  {
   "cell_type": "markdown",
   "metadata": {},
   "source": [
    "# app\n",
    "\n",
    "> FastAPI app"
   ]
  },
  {
   "cell_type": "code",
   "execution_count": null,
   "metadata": {},
   "outputs": [],
   "source": [
    "# | default_exp api/app"
   ]
  },
  {
   "cell_type": "code",
   "execution_count": null,
   "metadata": {},
   "outputs": [],
   "source": [
    "# | hide\n",
    "%load_ext autoreload\n",
    "%autoreload 2"
   ]
  },
  {
   "cell_type": "code",
   "execution_count": null,
   "metadata": {},
   "outputs": [],
   "source": [
    "# | hide\n",
    "from nbdev.showdoc import *"
   ]
  },
  {
   "cell_type": "code",
   "execution_count": null,
   "metadata": {},
   "outputs": [],
   "source": [
    "# | export\n",
    "import os\n",
    "from typing import Optional\n",
    "\n",
    "import pymupdf\n",
    "import uvicorn\n",
    "from fastapi import FastAPI, File, HTTPException, UploadFile\n",
    "\n",
    "from rager.api.lifespan import lifespan\n",
    "from rager.embed import EmbedRequest, embed_supported_models\n",
    "from rager.rerank import RerankRequest\n",
    "from rager.tokens import count_tokens"
   ]
  },
  {
   "cell_type": "code",
   "execution_count": null,
   "metadata": {},
   "outputs": [],
   "source": [
    "# | export\n",
    "app = FastAPI(lifespan=lifespan)"
   ]
  },
  {
   "cell_type": "code",
   "execution_count": null,
   "metadata": {},
   "outputs": [],
   "source": [
    "# | export\n",
    "\n",
    "\n",
    "@app.get(\"/models\")\n",
    "async def models():\n",
    "    embed_clients = app.state.clients[\"embed\"]\n",
    "    embed_models = [\n",
    "        k\n",
    "        for k, v in embed_supported_models.items()\n",
    "        if v.init_key in embed_clients.keys()\n",
    "    ]\n",
    "    return {\"embed\": embed_models}"
   ]
  },
  {
   "cell_type": "code",
   "execution_count": null,
   "metadata": {},
   "outputs": [],
   "source": [
    "# | export\n",
    "\n",
    "\n",
    "@app.post(\"/embed\")\n",
    "async def embed(req: EmbedRequest):\n",
    "    if req.model_str not in embed_supported.keys():\n",
    "        raise HTTPException(status_code=400, detail=f\"Unsupported model: {embed.model}\")\n",
    "\n",
    "    model = embed_supported_models[req.model_str]\n",
    "\n",
    "    if isinstance(req.text, str):\n",
    "        req.text = [req.text]\n",
    "\n",
    "    if len(req.text) > model.max_batch:\n",
    "        raise HTTPException(\n",
    "            status_code=400,\n",
    "            detail=f\"Batch size {len(req.text)} exceeds model {req.model} max batch {model.max_batch}\",\n",
    "        )\n",
    "\n",
    "    client = None\n",
    "    if model.init_key is not None:\n",
    "        if model.init_key not in app.state.clients.keys():\n",
    "            raise HTTPException(\n",
    "                status_code=404, detail=f\"Client {model.init_key} not found\"\n",
    "            )\n",
    "        client = app.state.clients[model.init_key]\n",
    "        if client is None:\n",
    "            raise HTTPException(\n",
    "                status_code=500,\n",
    "                detail=f\"Client '{model.init_key}' is not initialized\",\n",
    "            )\n",
    "\n",
    "    fn_embed = model.fn_embed(client)\n",
    "\n",
    "    embeddings = []\n",
    "    for i, text in enumerate(req.text):\n",
    "        if count_tokens(text) > model.max_input_size:\n",
    "            raise HTTPException(\n",
    "                status_code=400,\n",
    "                detail=f\"Input too long for model {req.model} with max length {model.max_input_size} tokens at index {i}\",\n",
    "            )\n",
    "\n",
    "        if model.async_:\n",
    "            embedding = await fn_embed(text)\n",
    "        else:\n",
    "            embedding = fn_embed(text)\n",
    "\n",
    "        embeddings.append(embedding)\n",
    "\n",
    "    return {\"embeddings\": embeddings}"
   ]
  },
  {
   "cell_type": "code",
   "execution_count": null,
   "metadata": {},
   "outputs": [],
   "source": [
    "# | export\n",
    "\n",
    "\n",
    "@app.post(\"/rerank\")\n",
    "async def rerank():\n",
    "    return {\"rerank\": \"not implemented\"}"
   ]
  },
  {
   "cell_type": "code",
   "execution_count": null,
   "metadata": {},
   "outputs": [],
   "source": [
    "# | export\n",
    "\n",
    "\n",
    "@app.post(\"/complete\")\n",
    "async def complete():\n",
    "    return {\"complete\": \"not implemented\"}"
   ]
  },
  {
   "cell_type": "code",
   "execution_count": null,
   "metadata": {},
   "outputs": [],
   "source": [
    "# | export\n",
    "\n",
    "\n",
    "@app.post(\"/chat\")\n",
    "async def chat():\n",
    "    return {\"chat\": \"not implemented\"}"
   ]
  },
  {
   "cell_type": "code",
   "execution_count": null,
   "metadata": {},
   "outputs": [],
   "source": [
    "# | export\n",
    "\n",
    "\n",
    "class UploadRequest:\n",
    "    file: UploadFile\n",
    "    chunk_strategy: Optional[str] = None"
   ]
  },
  {
   "cell_type": "code",
   "execution_count": null,
   "metadata": {},
   "outputs": [],
   "source": [
    "# | export\n",
    "\n",
    "\n",
    "@app.post(\"/upload/chunk_strategy\")\n",
    "async def create_upload_file(file: UploadFile, chunk_strategy: str | None = None):\n",
    "    if file.content_type == \"text/plain\":\n",
    "        contents = await file.read()\n",
    "    elif file.content_type == \"application/pdf\":\n",
    "        contents = pymupdf4llm.to_markdown(file.file)\n",
    "    else:\n",
    "        raise HTTPException(\n",
    "            status_code=400, detail=f\"Unsupported file type: {file.content_type}\"\n",
    "        )"
   ]
  },
  {
   "cell_type": "code",
   "execution_count": null,
   "metadata": {},
   "outputs": [],
   "source": [
    "# | export\n",
    "# | eval: false\n",
    "if __name__ == \"__main__\":\n",
    "    uvicorn.run(\n",
    "        \"rager.api.app:app\",\n",
    "        host=os.getenv(\"RAGER_API_HOST\", \"0.0.0.0\"),\n",
    "        port=os.getenv(\"RAGER_API_PORT\", 8080),\n",
    "        reload=os.getenv(\"RAGER_API_RELOAD\", False),\n",
    "    )"
   ]
  },
  {
   "cell_type": "code",
   "execution_count": null,
   "metadata": {},
   "outputs": [],
   "source": [
    "# | hide\n",
    "import nbdev\n",
    "\n",
    "nbdev.nbdev_export()"
   ]
  }
 ],
 "metadata": {
  "kernelspec": {
   "display_name": "python3",
   "language": "python",
   "name": "python3"
  }
 },
 "nbformat": 4,
 "nbformat_minor": 4
}
