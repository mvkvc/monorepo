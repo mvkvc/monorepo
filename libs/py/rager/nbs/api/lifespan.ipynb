{
 "cells": [
  {
   "cell_type": "markdown",
   "metadata": {},
   "source": [
    "# lifespan\n",
    "\n",
    "> Shared objects for FastAPI app"
   ]
  },
  {
   "cell_type": "code",
   "execution_count": null,
   "metadata": {},
   "outputs": [],
   "source": [
    "# | default_exp api/lifespan"
   ]
  },
  {
   "cell_type": "code",
   "execution_count": null,
   "metadata": {},
   "outputs": [],
   "source": [
    "# | hide\n",
    "%load_ext autoreload\n",
    "%autoreload 2"
   ]
  },
  {
   "cell_type": "code",
   "execution_count": null,
   "metadata": {},
   "outputs": [],
   "source": [
    "# | hide\n",
    "from nbdev.showdoc import *"
   ]
  },
  {
   "cell_type": "code",
   "execution_count": null,
   "metadata": {},
   "outputs": [],
   "source": [
    "# | export\n",
    "import os\n",
    "from contextlib import asynccontextmanager\n",
    "\n",
    "from fastapi import FastAPI\n",
    "from openai import AsyncOpenAI"
   ]
  },
  {
   "cell_type": "code",
   "execution_count": null,
   "metadata": {},
   "outputs": [],
   "source": [
    "def get_openai_compat_clients(store):\n",
    "    new_store = store.copy()\n",
    "    env_vars = [k for k, v in os.environ.items()]\n",
    "    new_store[\"openai\"][\"openai\"] = AsyncOpenAI()\n",
    "\n",
    "    for k in env_vars:\n",
    "        if k.startswith(\"OPENAI_API_KEY_\"):\n",
    "            key = k.split(\"_\")[-1]\n",
    "            new_store[\"openai\"][key] = AsyncOpenAI(api_key=os.environ[k])\n",
    "\n",
    "    return new_store"
   ]
  },
  {
   "cell_type": "code",
   "execution_count": null,
   "metadata": {},
   "outputs": [],
   "source": [
    "# | export\n",
    "\n",
    "\n",
    "@asynccontextmanager\n",
    "async def lifespan(app: FastAPI):\n",
    "    app.state.clients = {}\n",
    "    app.state.clients = get_openai_compat_clients(app.state.clients)\n",
    "    yield\n",
    "    app.state.clients.clear()"
   ]
  },
  {
   "cell_type": "code",
   "execution_count": null,
   "metadata": {},
   "outputs": [],
   "source": [
    "# | hide\n",
    "import nbdev\n",
    "\n",
    "nbdev.nbdev_export()"
   ]
  }
 ],
 "metadata": {
  "kernelspec": {
   "display_name": "python3",
   "language": "python",
   "name": "python3"
  }
 },
 "nbformat": 4,
 "nbformat_minor": 4
}
