{
 "cells": [
  {
   "cell_type": "markdown",
   "metadata": {},
   "source": [
    "# dag\n",
    "\n",
    "> Execution DAGs"
   ]
  },
  {
   "cell_type": "code",
   "execution_count": 1,
   "metadata": {},
   "outputs": [],
   "source": [
    "# | default_exp dag"
   ]
  },
  {
   "cell_type": "code",
   "execution_count": 2,
   "metadata": {},
   "outputs": [],
   "source": [
    "# | hide\n",
    "%load_ext autoreload\n",
    "%autoreload 2"
   ]
  },
  {
   "cell_type": "code",
   "execution_count": 3,
   "metadata": {},
   "outputs": [],
   "source": [
    "# | hide\n",
    "from nbdev.showdoc import *"
   ]
  },
  {
   "cell_type": "code",
   "execution_count": 4,
   "metadata": {},
   "outputs": [],
   "source": [
    "# | export\n",
    "from typing import Any, Callable, List, Optional, TypeVar\n",
    "import networkx as nx\n",
    "from pydantic import BaseModel"
   ]
  },
  {
   "cell_type": "code",
   "execution_count": 5,
   "metadata": {},
   "outputs": [],
   "source": [
    "# | export\n",
    "\n",
    "class Node:\n",
    "    def __init__(\n",
    "        self,\n",
    "        id: str,\n",
    "        runFn: Callable[any, any],\n",
    "        deps: Optional[List[str]] = None,\n",
    "        input_schema: Optional[BaseModel] = None,\n",
    "        output_schema: Optional[BaseModel] = None,\n",
    "        input_hook: Optional[Callable[BaseModel, BaseModel]] = None,\n",
    "        output_hook: Optional[Callable[BaseModel, BaseModel]] = None,\n",
    "    ):\n",
    "        self.id = id\n",
    "        self.runFn = runFn\n",
    "        self.deps = deps or []\n",
    "        self.input_schema = input_schema\n",
    "        self.output_schema = output_schema\n",
    "        self.input_hook = input_hook\n",
    "        self.output_hook = output_hook\n",
    "\n",
    "    def run(self, input, check: bool = True):\n",
    "        if check and self.input_schema:\n",
    "            self.input_schema.model_validate(input)\n",
    "\n",
    "        if self.input_hook:\n",
    "            input = self.input_hook(input)\n",
    "\n",
    "        result = self.runFn(input)\n",
    "\n",
    "        if self.output_hook:\n",
    "            result = self.output_hook(result)\n",
    "\n",
    "        if check and self.output_schema:\n",
    "            self.output_schema.model_validate(result)\n",
    "\n",
    "        return result"
   ]
  },
  {
   "cell_type": "code",
   "execution_count": 6,
   "metadata": {},
   "outputs": [
    {
     "data": {
      "text/plain": [
       "4"
      ]
     },
     "execution_count": 6,
     "metadata": {},
     "output_type": "execute_result"
    }
   ],
   "source": [
    "#| hide\n",
    "\n",
    "runFn = lambda x: x * 2\n",
    "node = Node(id=\"node1\", runFn=runFn)\n",
    "node.run(2)"
   ]
  },
  {
   "cell_type": "code",
   "execution_count": 7,
   "metadata": {},
   "outputs": [],
   "source": [
    "# | export\n",
    "\n",
    "class DAG:\n",
    "    def __init__(self, nodes: List[Node]):\n",
    "        graph = nx.DiGraph()\n",
    "\n",
    "        for node in nodes:\n",
    "            graph.add_node(node.id, node=node)\n",
    "\n",
    "            if node.deps:\n",
    "                for dep in node.deps:\n",
    "                    graph.add_edge(dep, node.id)\n",
    "\n",
    "        self.graph = graph\n",
    "        self.reset()\n",
    "\n",
    "    def reset(self):\n",
    "        self.intermediate_results = {}\n",
    "        self.results = {}\n",
    "\n",
    "    def run(self, input_, check: bool = False, debug: bool = False):\n",
    "        print(f\"INPUT FN {input_}\")\n",
    "        sorted_graph = nx.topological_sort(self.graph)\n",
    "    \n",
    "        for node_id in sorted_graph:\n",
    "            print(f\"NODE {node_id}\")\n",
    "            node = self.graph.nodes[node_id][\"node\"]\n",
    "\n",
    "            if self.graph.in_degree(node_id) == 0:\n",
    "                dep_results = {\"input\": input_}\n",
    "                print(f\"INPUT1 {dep_results}\")\n",
    "            else:\n",
    "                dep_results = {\n",
    "                    dep: self.intermediate_results[dep]\n",
    "                    for dep in self.graph.predecessors(node_id)\n",
    "                }\n",
    "                print(f\"INPUT2 {dep_results}\")\n",
    "\n",
    "            # print(f\"INPUT {dep_results}\")\n",
    "            result = node.run(input, check)\n",
    "            print(f\"RESULT {result}\")\n",
    "\n",
    "            if self.graph.out_degree(node_id) == 0:\n",
    "                self.results[node_id] = result\n",
    "            else:       \n",
    "                self.intermediate_results[node_id] = result\n",
    "\n",
    "        return self.results"
   ]
  },
  {
   "cell_type": "code",
   "execution_count": 10,
   "metadata": {},
   "outputs": [
    {
     "data": {
      "image/png": "[encoded data removed]",
      "text/plain": [
       "<Figure size 640x480 with 1 Axes>"
      ]
     },
     "metadata": {},
     "output_type": "display_data"
    }
   ],
   "source": [
    "#| hide\n",
    "    \n",
    "runFn1 = lambda x: x[\"input\"] * 2\n",
    "node1 = Node(id=\"node1\", runFn=runFn1)\n",
    "\n",
    "runFn2 = lambda x: x[\"node1\"] + 1\n",
    "node2 = Node(id=\"node2\", runFn=runFn2, deps=[\"node1\"])\n",
    "\n",
    "dag = DAG(nodes=[node1, node2])\n",
    "nx.draw(dag.graph, with_labels=True)"
   ]
  },
  {
   "cell_type": "code",
   "execution_count": 11,
   "metadata": {},
   "outputs": [
    {
     "name": "stdout",
     "output_type": "stream",
     "text": [
      "INPUT FN 1\n",
      "NODE node1\n",
      "INPUT1 {'input': 1}\n"
     ]
    },
    {
     "ename": "TypeError",
     "evalue": "'method' object is not subscriptable",
     "output_type": "error",
     "traceback": [
      "\u001b[0;31m---------------------------------------------------------------------------\u001b[0m",
      "\u001b[0;31mTypeError\u001b[0m                                 Traceback (most recent call last)",
      "Cell \u001b[0;32mIn[11], line 3\u001b[0m\n\u001b[1;32m      1\u001b[0m \u001b[38;5;66;03m#| hide\u001b[39;00m\n\u001b[0;32m----> 3\u001b[0m \u001b[43mdag\u001b[49m\u001b[38;5;241;43m.\u001b[39;49m\u001b[43mrun\u001b[49m\u001b[43m(\u001b[49m\u001b[38;5;241;43m1\u001b[39;49m\u001b[43m)\u001b[49m\n",
      "Cell \u001b[0;32mIn[7], line 40\u001b[0m, in \u001b[0;36mDAG.run\u001b[0;34m(self, input_, check, debug)\u001b[0m\n\u001b[1;32m     37\u001b[0m     \u001b[38;5;28mprint\u001b[39m(\u001b[38;5;124mf\u001b[39m\u001b[38;5;124m\"\u001b[39m\u001b[38;5;124mINPUT2 \u001b[39m\u001b[38;5;132;01m{\u001b[39;00mdep_results\u001b[38;5;132;01m}\u001b[39;00m\u001b[38;5;124m\"\u001b[39m)\n\u001b[1;32m     39\u001b[0m \u001b[38;5;66;03m# print(f\"INPUT {dep_results}\")\u001b[39;00m\n\u001b[0;32m---> 40\u001b[0m result \u001b[38;5;241m=\u001b[39m \u001b[43mnode\u001b[49m\u001b[38;5;241;43m.\u001b[39;49m\u001b[43mrun\u001b[49m\u001b[43m(\u001b[49m\u001b[38;5;28;43minput\u001b[39;49m\u001b[43m,\u001b[49m\u001b[43m \u001b[49m\u001b[43mcheck\u001b[49m\u001b[43m)\u001b[49m\n\u001b[1;32m     41\u001b[0m \u001b[38;5;28mprint\u001b[39m(\u001b[38;5;124mf\u001b[39m\u001b[38;5;124m\"\u001b[39m\u001b[38;5;124mRESULT \u001b[39m\u001b[38;5;132;01m{\u001b[39;00mresult\u001b[38;5;132;01m}\u001b[39;00m\u001b[38;5;124m\"\u001b[39m)\n\u001b[1;32m     43\u001b[0m \u001b[38;5;28;01mif\u001b[39;00m \u001b[38;5;28mself\u001b[39m\u001b[38;5;241m.\u001b[39mgraph\u001b[38;5;241m.\u001b[39mout_degree(node_id) \u001b[38;5;241m==\u001b[39m \u001b[38;5;241m0\u001b[39m:\n",
      "Cell \u001b[0;32mIn[5], line 29\u001b[0m, in \u001b[0;36mNode.run\u001b[0;34m(self, input, check)\u001b[0m\n\u001b[1;32m     26\u001b[0m \u001b[38;5;28;01mif\u001b[39;00m \u001b[38;5;28mself\u001b[39m\u001b[38;5;241m.\u001b[39minput_hook:\n\u001b[1;32m     27\u001b[0m     \u001b[38;5;28minput\u001b[39m \u001b[38;5;241m=\u001b[39m \u001b[38;5;28mself\u001b[39m\u001b[38;5;241m.\u001b[39minput_hook(\u001b[38;5;28minput\u001b[39m)\n\u001b[0;32m---> 29\u001b[0m result \u001b[38;5;241m=\u001b[39m \u001b[38;5;28;43mself\u001b[39;49m\u001b[38;5;241;43m.\u001b[39;49m\u001b[43mrunFn\u001b[49m\u001b[43m(\u001b[49m\u001b[38;5;28;43minput\u001b[39;49m\u001b[43m)\u001b[49m\n\u001b[1;32m     31\u001b[0m \u001b[38;5;28;01mif\u001b[39;00m \u001b[38;5;28mself\u001b[39m\u001b[38;5;241m.\u001b[39moutput_hook:\n\u001b[1;32m     32\u001b[0m     result \u001b[38;5;241m=\u001b[39m \u001b[38;5;28mself\u001b[39m\u001b[38;5;241m.\u001b[39moutput_hook(result)\n",
      "Cell \u001b[0;32mIn[10], line 3\u001b[0m, in \u001b[0;36m<lambda>\u001b[0;34m(x)\u001b[0m\n\u001b[1;32m      1\u001b[0m \u001b[38;5;66;03m#| hide\u001b[39;00m\n\u001b[0;32m----> 3\u001b[0m runFn1 \u001b[38;5;241m=\u001b[39m \u001b[38;5;28;01mlambda\u001b[39;00m x: \u001b[43mx\u001b[49m\u001b[43m[\u001b[49m\u001b[38;5;124;43m\"\u001b[39;49m\u001b[38;5;124;43minput\u001b[39;49m\u001b[38;5;124;43m\"\u001b[39;49m\u001b[43m]\u001b[49m \u001b[38;5;241m*\u001b[39m \u001b[38;5;241m2\u001b[39m\n\u001b[1;32m      4\u001b[0m node1 \u001b[38;5;241m=\u001b[39m Node(\u001b[38;5;28mid\u001b[39m\u001b[38;5;241m=\u001b[39m\u001b[38;5;124m\"\u001b[39m\u001b[38;5;124mnode1\u001b[39m\u001b[38;5;124m\"\u001b[39m, runFn\u001b[38;5;241m=\u001b[39mrunFn1)\n\u001b[1;32m      6\u001b[0m runFn2 \u001b[38;5;241m=\u001b[39m \u001b[38;5;28;01mlambda\u001b[39;00m x: x[\u001b[38;5;124m\"\u001b[39m\u001b[38;5;124mnode1\u001b[39m\u001b[38;5;124m\"\u001b[39m] \u001b[38;5;241m+\u001b[39m \u001b[38;5;241m1\u001b[39m\n",
      "\u001b[0;31mTypeError\u001b[0m: 'method' object is not subscriptable"
     ]
    }
   ],
   "source": [
    "#| hide\n",
    "\n",
    "dag.run(1)"
   ]
  },
  {
   "cell_type": "code",
   "execution_count": null,
   "metadata": {},
   "outputs": [],
   "source": [
    "# | hide\n",
    "import nbdev\n",
    "\n",
    "nbdev.nbdev_export()"
   ]
  }
 ],
 "metadata": {
  "kernelspec": {
   "display_name": "Python 3 (ipykernel)",
   "language": "python",
   "name": "python3"
  },
  "language_info": {
   "codemirror_mode": {
    "name": "ipython",
    "version": 3
   },
   "file_extension": ".py",
   "mimetype": "text/x-python",
   "name": "python",
   "nbconvert_exporter": "python",
   "pygments_lexer": "ipython3",
   "version": "3.10.12"
  }
 },
 "nbformat": 4,
 "nbformat_minor": 4
}
