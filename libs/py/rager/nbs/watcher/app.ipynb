{
 "cells": [
  {
   "cell_type": "markdown",
   "metadata": {},
   "source": [
    "# app\n",
    "\n",
    "> Fill in a module description here"
   ]
  },
  {
   "cell_type": "code",
   "execution_count": null,
   "metadata": {},
   "outputs": [],
   "source": [
    "# | default_exp watcher/app"
   ]
  },
  {
   "cell_type": "code",
   "execution_count": null,
   "metadata": {},
   "outputs": [],
   "source": [
    "# | hide\n",
    "%load_ext autoreload\n",
    "%autoreload 2"
   ]
  },
  {
   "cell_type": "code",
   "execution_count": null,
   "metadata": {},
   "outputs": [],
   "source": [
    "# | hide\n",
    "from nbdev.showdoc import *"
   ]
  },
  {
   "cell_type": "code",
   "execution_count": null,
   "metadata": {},
   "outputs": [],
   "source": [
    "# | export\n",
    "\n",
    "import hashlib\n",
    "import logging\n",
    "import os\n",
    "import pathlib\n",
    "import time\n",
    "\n",
    "import click\n",
    "from sqlmodel import Field, Session, SQLModel, create_engine, select\n",
    "from watchdog.events import LoggingEventHandler\n",
    "from watchdog.observers import Observer"
   ]
  },
  {
   "cell_type": "code",
   "execution_count": null,
   "metadata": {},
   "outputs": [],
   "source": [
    "# | export\n",
    "\n",
    "DEFAULT_DB_PATH = str(pathlib.Path.home() / \"ram_boost/db.sqlite\")"
   ]
  },
  {
   "cell_type": "code",
   "execution_count": null,
   "metadata": {},
   "outputs": [],
   "source": [
    "# | export\n",
    "\n",
    "\n",
    "class CustomEventHandler(LoggingEventHandler):\n",
    "    def __init__(self, key=None, delete=False):\n",
    "        self.key = key\n",
    "        self.delete = delete\n",
    "\n",
    "    def dispatch(self, event):\n",
    "        print(\"CHANGED: \", event)\n",
    "\n",
    "        if event.event_type == \"created\" or event.event_type == \"modified\":\n",
    "            pass\n",
    "\n",
    "        if self.delete and event.event_type == \"deleted\":\n",
    "            pass"
   ]
  },
  {
   "cell_type": "code",
   "execution_count": null,
   "metadata": {},
   "outputs": [],
   "source": [
    "# | export\n",
    "\n",
    "\n",
    "class File(SQLModel, table=True):\n",
    "    path: str = Field(primary_key=True)\n",
    "    hash: str"
   ]
  },
  {
   "cell_type": "code",
   "execution_count": null,
   "metadata": {},
   "outputs": [],
   "source": [
    "# | export\n",
    "\n",
    "\n",
    "class File(SQLModel, table=True):\n",
    "    path: str = Field(primary_key=True)\n",
    "    hash: str"
   ]
  },
  {
   "cell_type": "code",
   "execution_count": null,
   "metadata": {},
   "outputs": [],
   "source": [
    "# | export\n",
    "\n",
    "\n",
    "def hash(path: str):\n",
    "    \"https://stackoverflow.com/a/44873382\"\n",
    "    h = hashlib.sha256()\n",
    "    b = bytearray(128 * 1024)\n",
    "    mv = memoryview(b)\n",
    "\n",
    "    with open(path, \"rb\", buffering=0) as f:\n",
    "        while n := f.readinto(mv):\n",
    "            h.update(mv[:n])\n",
    "\n",
    "    return h.hexdigest()"
   ]
  },
  {
   "cell_type": "code",
   "execution_count": null,
   "metadata": {},
   "outputs": [],
   "source": [
    "# | export\n",
    "\n",
    "\n",
    "@click.command()\n",
    "@click.argument(\"path\", type=click.Path(exists=True))\n",
    "@click.option(\"--exclude\", \"-e\", multiple=True, help=\"Exclude paths\")\n",
    "@click.option(\"--key\", \"-k\", default=os.environ.get(\"RB_WATCHER_KEY\"), help=\"API key\")\n",
    "@click.option(\"--database\", \"-d\", help=\"SQLite database URL\")\n",
    "@click.option(\"--delete\", \"-D\", is_flag=True, help=\"Delete files from the server\")\n",
    "@click.option(\"--interval\", \"-i\", default=1, help=\"Interval to check for changes\")\n",
    "@click.option(\"--verbose\", \"-v\", is_flag=True, help=\"Verbose output\")\n",
    "def watch(path, exclude, key, database, delete, interval, verbose):\n",
    "    paths = [\n",
    "        p\n",
    "        for p in pathlib.Path(path).rglob(\"*\")\n",
    "        if p.is_file() and not any(ex in str(p) for ex in exclude)\n",
    "    ]\n",
    "\n",
    "    DB_PATH = database or DEFAULT_DB_PATH\n",
    "    DB_FOLDER = pathlib.Path(DB_PATH).parent\n",
    "    DB_FOLDER.mkdir(parents=True, exist_ok=True)\n",
    "\n",
    "    engine = create_engine(\"sqlite:///\" + DB_PATH)\n",
    "    SQLModel.metadata.create_all(engine)\n",
    "\n",
    "    with Session(engine) as session:\n",
    "        statement = select(File)\n",
    "        files_saved = session.exec(statement).all()\n",
    "        paths_saved = [f.path for f in files_saved]\n",
    "\n",
    "        paths_new = [str(p) for p in paths if str(p) not in paths_saved]\n",
    "        paths_new_hashed = [File(path=str(p), hash=hash(str(p))) for p in paths_new]\n",
    "\n",
    "        # Send the new files the the server to be chunked and stored\n",
    "\n",
    "        Session.bulk_insert_mappings(session, File, paths_new_hashed)\n",
    "\n",
    "        session.commit()\n",
    "\n",
    "        observer = Observer()\n",
    "        event_handler = CustomEventHandler(key=key)\n",
    "        observer.schedule(event_handler, path=path, recursive=True)\n",
    "        observer.start()\n",
    "\n",
    "        try:\n",
    "            while True:\n",
    "                time.sleep(interval)\n",
    "        except KeyboardInterrupt:\n",
    "            observer.stop()\n",
    "            observer.join()"
   ]
  },
  {
   "cell_type": "code",
   "execution_count": null,
   "metadata": {},
   "outputs": [],
   "source": [
    "# | export\n",
    "# | eval: false\n",
    "\n",
    "\n",
    "if __name__ == \"__main__\":\n",
    "    watch()"
   ]
  },
  {
   "cell_type": "code",
   "execution_count": null,
   "metadata": {},
   "outputs": [],
   "source": [
    "# | hide\n",
    "import nbdev\n",
    "\n",
    "nbdev.nbdev_export()"
   ]
  }
 ],
 "metadata": {
  "kernelspec": {
   "display_name": "python3",
   "language": "python",
   "name": "python3"
  }
 },
 "nbformat": 4,
 "nbformat_minor": 4
}
