{
 "cells": [
  {
   "cell_type": "markdown",
   "metadata": {},
   "source": [
    "# rerank\n",
    "\n",
    "> Reranking models"
   ]
  },
  {
   "cell_type": "code",
   "execution_count": null,
   "metadata": {},
   "outputs": [],
   "source": [
    "# | default_exp rerank"
   ]
  },
  {
   "cell_type": "code",
   "execution_count": null,
   "metadata": {},
   "outputs": [],
   "source": [
    "# | hide\n",
    "%load_ext autoreload\n",
    "%autoreload 2"
   ]
  },
  {
   "cell_type": "code",
   "execution_count": null,
   "metadata": {},
   "outputs": [],
   "source": [
    "# | hide\n",
    "from nbdev.showdoc import *"
   ]
  },
  {
   "cell_type": "code",
   "execution_count": null,
   "metadata": {},
   "outputs": [],
   "source": [
    "# | export\n",
    "from functools import partial\n",
    "from typing import Any, Awaitable, Callable, List, Union\n",
    "\n",
    "import numpy as np\n",
    "from pydantic import BaseModel, Field"
   ]
  },
  {
   "cell_type": "code",
   "execution_count": null,
   "metadata": {},
   "outputs": [],
   "source": [
    "# | export\n",
    "RerankResult = List[Union[float, np.array]]\n",
    "RerankFn = Callable[[str], Union[Awaitable[RerankResult], RerankResult]]\n",
    "Client = Any"
   ]
  },
  {
   "cell_type": "code",
   "execution_count": null,
   "metadata": {},
   "outputs": [],
   "source": [
    "# | export\n",
    "\n",
    "\n",
    "class RerankModel(BaseModel):\n",
    "    async_: bool\n",
    "    init_key: Union[str, None]\n",
    "    max_query_tokens: int\n",
    "    max_doc_tokens: int\n",
    "    max_docs: int\n",
    "    fn_init: Callable[[Union[str, None]], Client]\n",
    "    fn_rerank: Callable[[Client], RerankFn]\n",
    "    max_batch: int = Field(default=1)"
   ]
  },
  {
   "cell_type": "code",
   "execution_count": null,
   "metadata": {},
   "outputs": [],
   "source": [
    "# | export\n",
    "\n",
    "\n",
    "class RerankModel(BaseModel):\n",
    "    async_: bool\n",
    "    init_key: Union[str, None]\n",
    "    max_query_tokens: int\n",
    "    max_doc_tokens: int\n",
    "    max_docs: int\n",
    "    fn_init: Callable[[Union[str, None]], Client]\n",
    "    fn_rerank: Callable[[Client], RerankFn]\n",
    "    max_batch: int = Field(default=1)"
   ]
  },
  {
   "cell_type": "code",
   "execution_count": null,
   "metadata": {},
   "outputs": [],
   "source": [
    "# | export\n",
    "\n",
    "\n",
    "class RerankRequest(BaseModel):\n",
    "    query: str\n",
    "    docs: List[str]\n",
    "    model_str: str = Field(default=\"cohere_rerank-english-v3.0\")"
   ]
  },
  {
   "cell_type": "code",
   "execution_count": null,
   "metadata": {},
   "outputs": [],
   "source": [
    "# | hide\n",
    "import nbdev\n",
    "\n",
    "nbdev.nbdev_export()"
   ]
  }
 ],
 "metadata": {
  "kernelspec": {
   "display_name": "python3",
   "language": "python",
   "name": "python3"
  }
 },
 "nbformat": 4,
 "nbformat_minor": 4
}
