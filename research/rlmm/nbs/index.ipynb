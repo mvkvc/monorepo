{
 "cells": [
  {
   "attachments": {},
   "cell_type": "markdown",
   "metadata": {},
   "source": [
    "# rlmm\n",
    "\n",
    "> "
   ]
  },
  {
   "cell_type": "code",
   "execution_count": null,
   "metadata": {},
   "outputs": [],
   "source": [
    "# |hide"
   ]
  },
  {
   "attachments": {},
   "cell_type": "markdown",
   "metadata": {},
   "source": [
    "[![ci](https://github.com/mvkvc/rlmm/actions/workflows/ci.yaml/badge.svg?branch=main)](https://github.com/mvkvc/rlmm/actions/workflows/ci.yaml)\n",
    "[![docs](https://github.com/mvkvc/rlmm/actions/workflows/docs.yaml/badge.svg?branch=main)](https://github.com/mvkvc/rlmm/actions/workflows/docs.yaml)"
   ]
  },
  {
   "attachments": {},
   "cell_type": "markdown",
   "metadata": {},
   "source": [
    "Reinforcement learning with constraints for market making."
   ]
  },
  {
   "attachments": {},
   "cell_type": "markdown",
   "metadata": {},
   "source": []
  }
 ],
 "metadata": {
  "kernelspec": {
   "display_name": "python3",
   "language": "python",
   "name": "python3"
  }
 },
 "nbformat": 4,
 "nbformat_minor": 4
}
