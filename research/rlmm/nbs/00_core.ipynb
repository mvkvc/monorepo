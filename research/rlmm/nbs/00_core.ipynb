{
 "cells": [
  {
   "cell_type": "markdown",
   "metadata": {},
   "source": [
    "# core\n",
    "\n",
    "> Fill in a module description here"
   ]
  },
  {
   "cell_type": "code",
   "execution_count": null,
   "metadata": {},
   "outputs": [],
   "source": [
    "# | default_exp core"
   ]
  },
  {
   "cell_type": "code",
   "execution_count": null,
   "metadata": {},
   "outputs": [
    {
     "name": "stdout",
     "output_type": "stream",
     "text": [
      "The autoreload extension is already loaded. To reload it, use:\n",
      "  %reload_ext autoreload\n"
     ]
    }
   ],
   "source": [
    "# | hide\n",
    "%load_ext autoreload\n",
    "%autoreload 2"
   ]
  },
  {
   "cell_type": "code",
   "execution_count": null,
   "metadata": {},
   "outputs": [],
   "source": [
    "# | hide\n",
    "from fastcore.test import *\n",
    "from nbdev.showdoc import *"
   ]
  },
  {
   "cell_type": "code",
   "execution_count": null,
   "metadata": {},
   "outputs": [],
   "source": [
    "# | export\n",
    "\n",
    "import inspect\n",
    "import os\n",
    "from typing import *\n",
    "\n",
    "from fastcore.basics import *\n",
    "import yaml"
   ]
  },
  {
   "cell_type": "code",
   "execution_count": null,
   "metadata": {},
   "outputs": [],
   "source": [
    "# | export\n",
    "\n",
    "\n",
    "def obj_params(obj: Type) -> Dict[str, Any]:\n",
    "    out = {}\n",
    "    for cls in reversed(inspect.getmro(obj)):\n",
    "        for name, param in inspect.signature(cls.__init__).parameters.items():\n",
    "            if param.default is not inspect.Parameter.empty:\n",
    "                out[name] = param.default\n",
    "    return out"
   ]
  },
  {
   "cell_type": "code",
   "execution_count": null,
   "metadata": {},
   "outputs": [],
   "source": [
    "class MyBaseClass:\n",
    "    def __init__(self, a=4, b=5):\n",
    "        self.a = a\n",
    "        self.b = b\n",
    "\n",
    "\n",
    "class MyClass(MyBaseClass):\n",
    "    def __init__(self, x=1, y=2, z=3, **kwargs):\n",
    "        super().__init__(**kwargs)\n",
    "        self.x = x\n",
    "        self.y = y\n",
    "        self.z = z"
   ]
  },
  {
   "cell_type": "code",
   "execution_count": null,
   "metadata": {},
   "outputs": [
    {
     "data": {
      "text/plain": [
       "{'a': 4, 'b': 5, 'x': 1, 'y': 2, 'z': 3}"
      ]
     },
     "execution_count": null,
     "metadata": {},
     "output_type": "execute_result"
    }
   ],
   "source": [
    "obj_params(MyClass)"
   ]
  },
  {
   "cell_type": "code",
   "execution_count": null,
   "metadata": {},
   "outputs": [],
   "source": [
    "# | export\n",
    "\n",
    "\n",
    "def hydra_params(obj: Type, new_only: bool = False) -> Dict[str, Any]:\n",
    "    params = obj_params(obj)\n",
    "    if new_only:\n",
    "        base_params = obj_params(obj.__bases__[0])\n",
    "        params = {k: v for k, v in params.items() if k not in base_params}\n",
    "\n",
    "    return params"
   ]
  },
  {
   "cell_type": "code",
   "execution_count": null,
   "metadata": {},
   "outputs": [
    {
     "data": {
      "text/plain": [
       "{'a': 4, 'b': 5, 'x': 1, 'y': 2, 'z': 3}"
      ]
     },
     "execution_count": null,
     "metadata": {},
     "output_type": "execute_result"
    }
   ],
   "source": [
    "hydra_params(MyClass)"
   ]
  },
  {
   "cell_type": "code",
   "execution_count": null,
   "metadata": {},
   "outputs": [
    {
     "data": {
      "text/plain": [
       "{'x': 1, 'y': 2, 'z': 3}"
      ]
     },
     "execution_count": null,
     "metadata": {},
     "output_type": "execute_result"
    }
   ],
   "source": [
    "hydra_params(MyClass, new_only=True)"
   ]
  },
  {
   "cell_type": "code",
   "execution_count": null,
   "metadata": {},
   "outputs": [],
   "source": [
    "# | export\n",
    "\n",
    "\n",
    "def hydra_nb(\n",
    "    obj: Union[Type, None] = None,\n",
    "    path: Union[str, None] = None,\n",
    "    defaults: Union[None, List[str]] = None,\n",
    "    params: Union[None, Dict[str, Any]] = None,\n",
    "    new_only: bool = False,\n",
    "):\n",
    "    if obj is None and params is None:\n",
    "        raise ValueError(\"Both the object and params cannot be None\")\n",
    "\n",
    "    if defaults is not None:\n",
    "        data = {\"defaults\": defaults}\n",
    "    else:\n",
    "        data = {}\n",
    "\n",
    "    if obj is not None:\n",
    "        obj_params = hydra_params(obj, new_only=new_only)\n",
    "        data.update(obj_params)\n",
    "\n",
    "    if params is not None:\n",
    "        for param in params:\n",
    "            data[param] = params[param]\n",
    "        if \"_target_\" in params:\n",
    "            data.update({\"_target_\": data.pop(\"_target_\")})\n",
    "\n",
    "    if path is not None:\n",
    "        path_folder = os.path.dirname(os.path.abspath(path))\n",
    "        os.makedirs(path_folder, exist_ok=True)\n",
    "\n",
    "        with open(path, \"w\") as f:\n",
    "            yaml.dump(data, f, sort_keys=False)\n",
    "\n",
    "    print(yaml.dump(data, sort_keys=False))"
   ]
  },
  {
   "cell_type": "code",
   "execution_count": null,
   "metadata": {},
   "outputs": [
    {
     "name": "stdout",
     "output_type": "stream",
     "text": [
      "defaults:\n",
      "- base\n",
      "x: 1\n",
      "y: 2\n",
      "z: 3\n",
      "\n"
     ]
    }
   ],
   "source": [
    "hydra_nb(MyClass, defaults=[\"base\"], new_only=True)"
   ]
  },
  {
   "cell_type": "code",
   "execution_count": null,
   "metadata": {},
   "outputs": [],
   "source": [
    "# | hide\n",
    "import nbdev\n",
    "\n",
    "nbdev.nbdev_export()"
   ]
  }
 ],
 "metadata": {
  "kernelspec": {
   "display_name": "python3",
   "language": "python",
   "name": "python3"
  }
 },
 "nbformat": 4,
 "nbformat_minor": 4
}
