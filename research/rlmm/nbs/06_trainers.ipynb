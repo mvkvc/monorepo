{
 "cells": [
  {
   "cell_type": "markdown",
   "metadata": {},
   "source": [
    "# trainers\n",
    "\n",
    "> Classes to run the training loop and manage logging, checkpointing, etc."
   ]
  },
  {
   "cell_type": "code",
   "execution_count": null,
   "metadata": {},
   "outputs": [],
   "source": [
    "# | default_exp trainers"
   ]
  },
  {
   "cell_type": "code",
   "execution_count": null,
   "metadata": {},
   "outputs": [],
   "source": [
    "# | hide\n",
    "%load_ext autoreload\n",
    "%autoreload 2"
   ]
  },
  {
   "cell_type": "code",
   "execution_count": null,
   "metadata": {},
   "outputs": [],
   "source": [
    "# | hide\n",
    "from fastcore.test import *\n",
    "from nbdev.showdoc import *"
   ]
  },
  {
   "cell_type": "code",
   "execution_count": null,
   "metadata": {},
   "outputs": [],
   "source": [
    "# |export\n",
    "from abc import ABC\n",
    "from abc import abstractmethod\n",
    "import os\n",
    "from typing import *\n",
    "\n",
    "from fastcore.basics import patch\n",
    "import gymnasium as gym\n",
    "\n",
    "from rlmm.agents import *\n",
    "from rlmm.core import *\n",
    "from rlmm.envs import *"
   ]
  },
  {
   "cell_type": "code",
   "execution_count": null,
   "metadata": {},
   "outputs": [],
   "source": [
    "# path_save =\n",
    "# path_load =\n",
    "# run_id =\n",
    "log_fn = None"
   ]
  },
  {
   "cell_type": "code",
   "execution_count": null,
   "metadata": {},
   "outputs": [],
   "source": [
    "# |export\n",
    "\n",
    "\n",
    "class BaseTrainer(ABC):\n",
    "    def __init__(\n",
    "        self,\n",
    "        agent: BaseAgent,\n",
    "        env: gym.Env,\n",
    "        rounds_train: int,\n",
    "        rounds_eval: int,\n",
    "        save_folder: Union[str, None] = None,\n",
    "        save_interval: Union[int, None] = None,\n",
    "        run_id: Union[str, None] = None,\n",
    "        log_fn: Union[Callable, None] = None,\n",
    "    ):\n",
    "        self.agent = agent\n",
    "        self.env = env\n",
    "        self.rounds_train = rounds_train\n",
    "        self.rounds_eval = rounds_eval\n",
    "        self.save_folder = save_folder\n",
    "        self.save_interval = save_interval\n",
    "        self.run_id = run_id\n",
    "        self.log_fn = log_fn\n",
    "\n",
    "    def save(self, agent: BaseAgent, round: int) -> None:\n",
    "        if run_id is None:\n",
    "            run_id = \"latest\"\n",
    "\n",
    "        save_path = f\"{self.save_folder}/models/{self.run_id}/{round}\"\n",
    "        if os.path.exists(save_path):\n",
    "            os.rmdir(save_path)\n",
    "\n",
    "        os.makedirs(save_path)\n",
    "        agent.save(save_path)\n",
    "\n",
    "    def load(self, agent: BaseAgent, run_id: str, round: int) -> BaseAgent:\n",
    "        if self.run_id is None:\n",
    "            self.run_id = \"latest\"\n",
    "\n",
    "        load_path = f\"{self.save_folder}/models/{run_id}/{round}\"\n",
    "        if not os.path.exists(load_path):\n",
    "            raise ValueError(f\"Model path does not exist: {load_path}\")\n",
    "\n",
    "        agent.load(load_path)\n",
    "\n",
    "        return agent\n",
    "\n",
    "    @abstractmethod\n",
    "    def train(self) -> None:\n",
    "        ...\n",
    "\n",
    "    @abstractmethod\n",
    "    def evaluate(self) -> None:\n",
    "        ..."
   ]
  },
  {
   "cell_type": "code",
   "execution_count": null,
   "metadata": {},
   "outputs": [
    {
     "name": "stdout",
     "output_type": "stream",
     "text": [
      "save_folder: null\n",
      "save_interval: null\n",
      "run_id: null\n",
      "log_fn: null\n",
      "\n"
     ]
    }
   ],
   "source": [
    "params = {}\n",
    "\n",
    "hydra_nb(obj=BaseTrainer, path=\"../conf/trainers/base.yaml\", params=params)"
   ]
  },
  {
   "cell_type": "code",
   "execution_count": null,
   "metadata": {},
   "outputs": [],
   "source": [
    "# |export\n",
    "\n",
    "\n",
    "class SingleAgentTrainer(BaseTrainer):\n",
    "    def train(self, env: BaseEnv, agent: BaseAgent) -> None:\n",
    "        for round in range(1, self.rounds_train + 1):\n",
    "            state = env.reset()\n",
    "            done = False\n",
    "            loss = None\n",
    "            while not done:\n",
    "                action = agent.get_action(state)  # type: ignore\n",
    "                done, state, next_state, reward, info = env.step(action)\n",
    "                transition = (state, action, reward, next_state, done)\n",
    "                loss = agent.step(transition)  # type: ignore\n",
    "                state = next_state\n",
    "\n",
    "            if self.log_fn is not None:\n",
    "                log_dict = {\n",
    "                    \"loss\": loss,\n",
    "                }\n",
    "                log_dict.update(info)\n",
    "                self.log_fn(log_dict)\n",
    "\n",
    "            if (\n",
    "                self.save_folder is not None\n",
    "                and self.save_interval is not None\n",
    "                and round % self.save_interval == 0\n",
    "            ):\n",
    "                self.save(agent=agent, round=round)\n",
    "\n",
    "    def evaluate(self, env: BaseEnv, agent: BaseAgent) -> None:\n",
    "        total_reward = 0\n",
    "        for _ in range(1, self.rounds_eval + 1):\n",
    "            state = env.reset()\n",
    "            done = False\n",
    "            while not done:\n",
    "                action = agent.get_action(state)  # type: ignore\n",
    "                done, _, next_state, reward, _ = env.step(action)\n",
    "                total_reward += reward\n",
    "                state = next_state\n",
    "\n",
    "        avg_total_reward = total_reward / self.rounds_eval\n",
    "        print(f\"Average total reward: {round(avg_total_reward, 2)}\")\n",
    "        if self.log_fn is not None:\n",
    "            metrics = {\"avg_total_reward\": avg_total_reward}\n",
    "            self.log_fn(metrics)"
   ]
  },
  {
   "cell_type": "code",
   "execution_count": null,
   "metadata": {},
   "outputs": [],
   "source": [
    "# | hide\n",
    "import nbdev\n",
    "\n",
    "nbdev.nbdev_export()"
   ]
  },
  {
   "cell_type": "code",
   "execution_count": null,
   "metadata": {},
   "outputs": [],
   "source": []
  }
 ],
 "metadata": {
  "kernelspec": {
   "display_name": "python3",
   "language": "python",
   "name": "python3"
  }
 },
 "nbformat": 4,
 "nbformat_minor": 4
}
