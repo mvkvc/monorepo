{
 "cells": [
  {
   "cell_type": "markdown",
   "id": "3091bdfb-12dd-4c83-961a-c08d35c69939",
   "metadata": {},
   "source": [
    "# stats_size\n",
    "\n",
    "> Calculate total dataset size"
   ]
  },
  {
   "cell_type": "code",
   "execution_count": null,
   "id": "cf2205bc-1d0d-4152-8eb7-4ccba9bd3623",
   "metadata": {
    "vscode": {
     "languageId": "python"
    }
   },
   "outputs": [],
   "source": [
    "path_input = \"../data/test/parquet\"\n",
    "path_output = \"../outs\"\n",
    "depth = 2\n",
    "exclude = []\n",
    "publish = False"
   ]
  },
  {
   "cell_type": "code",
   "execution_count": null,
   "id": "293a9088",
   "metadata": {
    "vscode": {
     "languageId": "python"
    }
   },
   "outputs": [],
   "source": [
    "import datetime\n",
    "import os\n",
    "\n",
    "import pandas as pd\n",
    "\n",
    "from rlmm.utils import *"
   ]
  },
  {
   "cell_type": "code",
   "execution_count": null,
   "id": "70c0e007",
   "metadata": {
    "vscode": {
     "languageId": "python"
    }
   },
   "outputs": [],
   "source": [
    "if not os.path.exists(os.path.abspath(path_input)):\n",
    "    raise ValueError(f\"Path does not exist: {path_input}\")"
   ]
  },
  {
   "cell_type": "code",
   "execution_count": null,
   "id": "174168e7",
   "metadata": {
    "vscode": {
     "languageId": "python"
    }
   },
   "outputs": [],
   "source": [
    "if not os.path.exists(os.path.abspath(path_output)):\n",
    "    raise ValueError(f\"Path does not exist: {path_outputh}\")"
   ]
  },
  {
   "cell_type": "code",
   "execution_count": null,
   "id": "9b47f3a8",
   "metadata": {
    "vscode": {
     "languageId": "python"
    }
   },
   "outputs": [
    {
     "name": "stdout",
     "output_type": "stream",
     "text": [
      "['../data/test/parquet/trades/ETHUSDT', '../data/test/parquet/book_snapshot_25/ETHUSDT']\n"
     ]
    }
   ],
   "source": [
    "folders = walk_folders(path_input=path_input, depth=depth, exclude=exclude)\n",
    "\n",
    "print(folders)"
   ]
  },
  {
   "cell_type": "code",
   "execution_count": null,
   "id": "3dcbc6ca",
   "metadata": {
    "vscode": {
     "languageId": "python"
    }
   },
   "outputs": [
    {
     "name": "stdout",
     "output_type": "stream",
     "text": [
      "{'trades/ETHUSDT': 0.03, 'book_snapshot_25/ETHUSDT': 0.59}\n"
     ]
    }
   ],
   "source": [
    "sizes = {}\n",
    "\n",
    "for folder in folders:\n",
    "    size = 0\n",
    "    for f in os.listdir(folder):\n",
    "        fp = f\"{folder}/{f}\"\n",
    "        size += os.path.getsize(fp)\n",
    "\n",
    "    folder = folder.replace(path_input + \"/\", \"\")\n",
    "    sizes[folder] = round(size / (1024**3), 2)\n",
    "\n",
    "print(sizes)"
   ]
  },
  {
   "cell_type": "code",
   "execution_count": null,
   "id": "611cd89d",
   "metadata": {
    "vscode": {
     "languageId": "python"
    }
   },
   "outputs": [
    {
     "data": {
      "text/html": [
       "<div>\n",
       "<style scoped>\n",
       "    .dataframe tbody tr th:only-of-type {\n",
       "        vertical-align: middle;\n",
       "    }\n",
       "\n",
       "    .dataframe tbody tr th {\n",
       "        vertical-align: top;\n",
       "    }\n",
       "\n",
       "    .dataframe thead th {\n",
       "        text-align: right;\n",
       "    }\n",
       "</style>\n",
       "<table border=\"1\" class=\"dataframe\">\n",
       "  <thead>\n",
       "    <tr style=\"text-align: right;\">\n",
       "      <th></th>\n",
       "      <th>GB</th>\n",
       "    </tr>\n",
       "  </thead>\n",
       "  <tbody>\n",
       "    <tr>\n",
       "      <th>trades/ETHUSDT</th>\n",
       "      <td>0.03</td>\n",
       "    </tr>\n",
       "    <tr>\n",
       "      <th>book_snapshot_25/ETHUSDT</th>\n",
       "      <td>0.59</td>\n",
       "    </tr>\n",
       "  </tbody>\n",
       "</table>\n",
       "</div>"
      ],
      "text/plain": [
       "                            GB\n",
       "trades/ETHUSDT            0.03\n",
       "book_snapshot_25/ETHUSDT  0.59"
      ]
     },
     "execution_count": null,
     "metadata": {},
     "output_type": "execute_result"
    }
   ],
   "source": [
    "df = pd.DataFrame.from_dict(sizes, orient=\"index\", columns=[\"GB\"])\n",
    "\n",
    "df"
   ]
  },
  {
   "cell_type": "code",
   "execution_count": null,
   "id": "daad8a82",
   "metadata": {
    "vscode": {
     "languageId": "python"
    }
   },
   "outputs": [],
   "source": [
    "df.reset_index(inplace=True)\n",
    "df.rename(columns={\"index\": \"path\"}, inplace=True)"
   ]
  },
  {
   "cell_type": "code",
   "execution_count": null,
   "id": "4dcd2c90",
   "metadata": {
    "vscode": {
     "languageId": "python"
    }
   },
   "outputs": [],
   "source": [
    "new_cols = []\n",
    "for i in range(0, depth):\n",
    "    new_cols.append(f\"level_{i}\")"
   ]
  },
  {
   "cell_type": "code",
   "execution_count": null,
   "id": "0c464778",
   "metadata": {
    "vscode": {
     "languageId": "python"
    }
   },
   "outputs": [
    {
     "name": "stdout",
     "output_type": "stream",
     "text": [
      "['level_0', 'level_1']\n",
      "Index(['path', 'GB'], dtype='object')\n",
      "                       path    GB\n",
      "0            trades/ETHUSDT  0.03\n",
      "1  book_snapshot_25/ETHUSDT  0.59\n"
     ]
    }
   ],
   "source": [
    "print(new_cols)\n",
    "print(df.columns)\n",
    "print(df.head())"
   ]
  },
  {
   "cell_type": "code",
   "execution_count": null,
   "id": "b10985fc",
   "metadata": {
    "vscode": {
     "languageId": "python"
    }
   },
   "outputs": [],
   "source": [
    "df[new_cols] = df[\"path\"].str.split(\"\\/\", expand=True).fillna(\"NA\")\n",
    "df = df[new_cols + [\"GB\"]]\n",
    "df = df[df[\"GB\"] != 0]"
   ]
  },
  {
   "cell_type": "code",
   "execution_count": null,
   "id": "028c61f2",
   "metadata": {
    "vscode": {
     "languageId": "python"
    }
   },
   "outputs": [
    {
     "name": "stdout",
     "output_type": "stream",
     "text": [
      "            level_0  level_1    GB\n",
      "0            trades  ETHUSDT  0.03\n",
      "1  book_snapshot_25  ETHUSDT  0.59\n"
     ]
    }
   ],
   "source": [
    "if not df.empty:\n",
    "    if publish and path_output and os.path.exists(path_output):\n",
    "        ts = datetime.datetime.now().strftime(\"%y_%m_%d-%H_%M_%S\")\n",
    "        csv_path = f\"{path_output}/dir_size_{ts}.csv\"\n",
    "        df.to_csv(csv_path, index=False)\n",
    "    else:\n",
    "        raise FileNotFoundError(f\"Path {path_output} does not exist\")\n",
    "\n",
    "    print(df)\n",
    "else:\n",
    "    raise ValueError(\"dataframe empty\")"
   ]
  },
  {
   "cell_type": "code",
   "execution_count": null,
   "id": "6c23c990-95ba-45f0-b187-078168b9f997",
   "metadata": {
    "vscode": {
     "languageId": "python"
    }
   },
   "outputs": [],
   "source": []
  }
 ],
 "metadata": {
  "jupytext": {
   "cell_metadata_filter": "-all",
   "main_language": "python",
   "notebook_metadata_filter": "-all"
  },
  "kernelspec": {
   "display_name": "python3",
   "language": "python",
   "name": "python3"
  }
 },
 "nbformat": 4,
 "nbformat_minor": 5
}
