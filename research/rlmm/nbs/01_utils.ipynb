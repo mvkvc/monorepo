{
 "cells": [
  {
   "cell_type": "markdown",
   "metadata": {},
   "source": [
    "# utils\n",
    "\n",
    "> Helper functions"
   ]
  },
  {
   "cell_type": "code",
   "execution_count": null,
   "metadata": {},
   "outputs": [],
   "source": [
    "# | default_exp utils"
   ]
  },
  {
   "cell_type": "code",
   "execution_count": null,
   "metadata": {},
   "outputs": [
    {
     "name": "stdout",
     "output_type": "stream",
     "text": [
      "The autoreload extension is already loaded. To reload it, use:\n",
      "  %reload_ext autoreload\n"
     ]
    }
   ],
   "source": [
    "# | hide\n",
    "%load_ext autoreload\n",
    "%autoreload 2"
   ]
  },
  {
   "cell_type": "code",
   "execution_count": null,
   "metadata": {},
   "outputs": [],
   "source": [
    "# | hide\n",
    "from fastcore.test import *\n",
    "from nbdev.showdoc import *"
   ]
  },
  {
   "cell_type": "code",
   "execution_count": null,
   "metadata": {},
   "outputs": [],
   "source": [
    "# | export\n",
    "\n",
    "\n",
    "from datetime import *\n",
    "import os\n",
    "import pprint\n",
    "import random\n",
    "import re\n",
    "import sys\n",
    "from typing import *\n",
    "\n",
    "from fastcore.basics import *\n",
    "from fastcore.basics import patch\n",
    "from hydra import *\n",
    "import numpy as np\n",
    "from omegaconf import *\n",
    "import torch"
   ]
  },
  {
   "cell_type": "code",
   "execution_count": null,
   "metadata": {},
   "outputs": [],
   "source": [
    "# | export\n",
    "\n",
    "\n",
    "def dt_from_ts(ts: int) -> np.datetime64:\n",
    "    epoch_seconds = ts / 1000000\n",
    "    dt = np.datetime64(datetime.fromtimestamp(epoch_seconds, tz=timezone.utc))\n",
    "\n",
    "    return dt"
   ]
  },
  {
   "cell_type": "code",
   "execution_count": null,
   "metadata": {},
   "outputs": [],
   "source": [
    "# | export\n",
    "\n",
    "\n",
    "def ts_from_dt(dt: datetime) -> int:\n",
    "    return int(dt.timestamp())"
   ]
  },
  {
   "cell_type": "code",
   "execution_count": null,
   "metadata": {},
   "outputs": [],
   "source": [
    "# | export\n",
    "\n",
    "\n",
    "def dict_depth(d: Any) -> int:\n",
    "    if isinstance(d, dict):\n",
    "        return 1 + (max(map(dict_depth, d.values())) if d else 0)\n",
    "\n",
    "    return 0"
   ]
  },
  {
   "cell_type": "code",
   "execution_count": null,
   "metadata": {},
   "outputs": [],
   "source": [
    "# | export\n",
    "\n",
    "\n",
    "def dict_flatten(d: dict, root: str = \"\") -> dict:\n",
    "    out = {}\n",
    "    for k, v in d.items():\n",
    "        key = root + k\n",
    "        if isinstance(v, dict):\n",
    "            out.update(dict_flatten(v, key + \".\"))\n",
    "        else:\n",
    "            out[key] = v\n",
    "\n",
    "    return out"
   ]
  },
  {
   "cell_type": "code",
   "execution_count": null,
   "metadata": {},
   "outputs": [],
   "source": [
    "# | export\n",
    "\n",
    "\n",
    "def walk_folders(\n",
    "    path_input: str, depth: int = 1, exclude: Union[List[str], None] = None\n",
    ") -> List[str]:\n",
    "    abs_path = os.path.abspath(path_input)\n",
    "    if not os.path.exists(abs_path):\n",
    "        raise FileNotFoundError(f\"Path {abs_path} does not exist\")\n",
    "\n",
    "    if exclude is None:\n",
    "        exclude = []\n",
    "\n",
    "    folders = []\n",
    "\n",
    "    for root, dirs, _ in os.walk(path_input, topdown=True):\n",
    "        if root.count(os.sep) - path_input.count(os.sep) > depth:\n",
    "            del dirs[:]\n",
    "        else:\n",
    "            if root.count(os.sep) - path_input.count(os.sep) == depth:\n",
    "                folders.append(root)\n",
    "\n",
    "            for ex in exclude:\n",
    "                dirs[:] = [d for d in dirs if ex not in d]\n",
    "\n",
    "    return folders"
   ]
  },
  {
   "cell_type": "code",
   "execution_count": null,
   "metadata": {},
   "outputs": [],
   "source": [
    "# | export\n",
    "\n",
    "\n",
    "def get_config(\n",
    "    config_path: str, config_name: str, target_path: str, overrides: List[str]\n",
    ") -> DictConfig:\n",
    "    sys.path.append(os.path.abspath(target_path))\n",
    "\n",
    "    with initialize(version_base=None, config_path=config_path):\n",
    "        cfg = compose(config_name=config_name, overrides=overrides)\n",
    "\n",
    "    pp = pprint.PrettyPrinter(indent=4)\n",
    "    pp.pprint(OmegaConf.to_container(cfg))\n",
    "\n",
    "    return cfg"
   ]
  },
  {
   "cell_type": "code",
   "execution_count": null,
   "metadata": {},
   "outputs": [],
   "source": [
    "# | export\n",
    "\n",
    "\n",
    "def get_resample_code(interval: str, frequency: int) -> str:\n",
    "    codes_dict = {\n",
    "        \"day\": \"D\",\n",
    "        \"hour\": \"H\",\n",
    "        \"minute\": \"T\",\n",
    "        \"second\": \"S\",\n",
    "        \"millisecond\": \"L\",\n",
    "        \"microseconds\": \"U\",\n",
    "        \"nanoseconds\": \"N\",\n",
    "    }\n",
    "\n",
    "    codes = {key: value for key, value in codes_dict.items() if key in interval}\n",
    "    if not codes:\n",
    "        raise ValueError(f\"Invalid interval. Must be one of {list(codes_dict.keys())}.\")\n",
    "\n",
    "    return f\"{frequency}{codes[interval]}\""
   ]
  },
  {
   "cell_type": "code",
   "execution_count": null,
   "metadata": {},
   "outputs": [],
   "source": [
    "# | export\n",
    "\n",
    "\n",
    "def set_seed(seed: int) -> None:\n",
    "    random.seed(seed)\n",
    "    np.random.seed(seed)\n",
    "    torch.manual_seed(seed)\n",
    "\n",
    "    if torch.cuda.is_available():\n",
    "        torch.cuda.manual_seed_all(seed)"
   ]
  },
  {
   "cell_type": "code",
   "execution_count": null,
   "metadata": {},
   "outputs": [],
   "source": [
    "# | export\n",
    "\n",
    "\n",
    "def list_regex(\n",
    "    lst: List[str],\n",
    "    regex_match: str,\n",
    "    regex_sort: Union[str, None] = None,\n",
    ") -> List[str]:\n",
    "    if regex_match is not None:\n",
    "        lst = [x for x in lst if re.match(regex_match, x)]\n",
    "\n",
    "    if regex_sort is not None:\n",
    "        lst_key = [x for x in lst if re.search(regex_sort, x)]\n",
    "        if len(lst) == len(lst_key):\n",
    "            lst = sorted(lst, key=lambda x: int(re.search(regex_sort, x).group(0)))\n",
    "        else:\n",
    "            raise ValueError(\"Not all values in list match sorting regex.\")\n",
    "\n",
    "    return lst"
   ]
  },
  {
   "cell_type": "code",
   "execution_count": null,
   "metadata": {},
   "outputs": [],
   "source": [
    "# | hide\n",
    "import nbdev\n",
    "\n",
    "nbdev.nbdev_export()"
   ]
  },
  {
   "cell_type": "code",
   "execution_count": null,
   "metadata": {},
   "outputs": [],
   "source": []
  }
 ],
 "metadata": {
  "kernelspec": {
   "display_name": "python3",
   "language": "python",
   "name": "python3"
  }
 },
 "nbformat": 4,
 "nbformat_minor": 4
}
