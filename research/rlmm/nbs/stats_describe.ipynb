{
 "cells": [
  {
   "cell_type": "markdown",
   "id": "05c429ba-0f0a-4a2e-9762-2a5535a5d27a",
   "metadata": {},
   "source": [
    "# stats_describe\n",
    "\n",
    "> Generate descriptive statistics for dataset"
   ]
  },
  {
   "cell_type": "code",
   "execution_count": null,
   "id": "31db988e-b15f-47fd-9372-801c9747b40a",
   "metadata": {
    "vscode": {
     "languageId": "python"
    }
   },
   "outputs": [],
   "source": [
    "path_input = \"../data/test/parquet\"\n",
    "path_output = \"../outs\"\n",
    "depth = 2\n",
    "exclude = None\n",
    "start_time = \"21_3_5-0_0_0\"\n",
    "end_time = \"21_3_10-0_0_0\"\n",
    "publish = False"
   ]
  },
  {
   "cell_type": "code",
   "execution_count": null,
   "id": "5913f4a7",
   "metadata": {
    "vscode": {
     "languageId": "python"
    }
   },
   "outputs": [],
   "source": [
    "import datetime\n",
    "import os\n",
    "\n",
    "import dask.dataframe as dd\n",
    "\n",
    "from rlmm.utils import *"
   ]
  },
  {
   "cell_type": "code",
   "execution_count": null,
   "id": "21532910",
   "metadata": {
    "vscode": {
     "languageId": "python"
    }
   },
   "outputs": [],
   "source": [
    "if not os.path.exists(os.path.abspath(path_input)):\n",
    "    raise ValueError(f\"Path does not exist: {path_input}\")"
   ]
  },
  {
   "cell_type": "code",
   "execution_count": null,
   "id": "f7d01bff",
   "metadata": {
    "vscode": {
     "languageId": "python"
    }
   },
   "outputs": [],
   "source": [
    "if not os.path.exists(os.path.abspath(path_output)):\n",
    "    raise ValueError(f\"Path does not exist: {path_output}\")"
   ]
  },
  {
   "cell_type": "code",
   "execution_count": null,
   "id": "676b8b95",
   "metadata": {
    "vscode": {
     "languageId": "python"
    }
   },
   "outputs": [
    {
     "name": "stdout",
     "output_type": "stream",
     "text": [
      "start ts: 2021-03-05 00:00:00\n",
      "end ts: 2021-03-10 00:00:00\n"
     ]
    }
   ],
   "source": [
    "start_ts = datetime.datetime.strptime(start_time, \"%y_%m_%d-%H_%M_%S\")\n",
    "end_ts = datetime.datetime.strptime(end_time, \"%y_%m_%d-%H_%M_%S\")\n",
    "\n",
    "print(f\"start ts: {start_ts}\")\n",
    "print(f\"end ts: {end_ts}\")"
   ]
  },
  {
   "cell_type": "code",
   "execution_count": null,
   "id": "05e9b838-1a50-47ed-908e-d57ffde84ab0",
   "metadata": {
    "vscode": {
     "languageId": "python"
    }
   },
   "outputs": [
    {
     "name": "stdout",
     "output_type": "stream",
     "text": [
      "excluding: None\n"
     ]
    }
   ],
   "source": [
    "if isinstance(exclude, str):\n",
    "    exclude = exclude.split(\",\")\n",
    "\n",
    "print(f\"excluding: {exclude}\")"
   ]
  },
  {
   "cell_type": "code",
   "execution_count": null,
   "id": "3eb7cab1",
   "metadata": {
    "vscode": {
     "languageId": "python"
    }
   },
   "outputs": [
    {
     "name": "stdout",
     "output_type": "stream",
     "text": [
      "Folders: ['../data/test/parquet/trades/ETHUSDT', '../data/test/parquet/book_snapshot_25/ETHUSDT']\n"
     ]
    }
   ],
   "source": [
    "folders = walk_folders(path_input=path_input, depth=depth, exclude=exclude)\n",
    "\n",
    "print(f\"Folders: {folders}\")"
   ]
  },
  {
   "cell_type": "code",
   "execution_count": null,
   "id": "1e691639",
   "metadata": {
    "vscode": {
     "languageId": "python"
    }
   },
   "outputs": [
    {
     "name": "stdout",
     "output_type": "stream",
     "text": [
      "Reading ../data/test/parquet/trades/ETHUSDT...\n",
      "Reading ../data/test/parquet/book_snapshot_25/ETHUSDT...\n"
     ]
    }
   ],
   "source": [
    "for folder in folders:\n",
    "    print(f\"Reading {folder}...\")\n",
    "    df = dd.read_parquet(folder).compute()\n",
    "    df = df[(df.index >= start_ts) & (df.index <= end_ts)]\n",
    "    out = df.describe()\n",
    "\n",
    "    for x in [\"book\", \"trades\"]:\n",
    "        if x in folder:\n",
    "            folder_type = f\"{x}_\"\n",
    "\n",
    "    if publish and path_output:\n",
    "        ts = datetime.datetime.now().strftime(\"%y_%m_%d-%H_%M_%S\")\n",
    "        out.to_csv(f\"{path_output}/stats_{folder_type}{folder.split('/')[-1]}_{ts}.csv\")"
   ]
  },
  {
   "cell_type": "code",
   "execution_count": null,
   "id": "444aba17-3dd4-425d-9917-431dde93fc05",
   "metadata": {
    "vscode": {
     "languageId": "python"
    }
   },
   "outputs": [],
   "source": []
  }
 ],
 "metadata": {
  "jupytext": {
   "cell_metadata_filter": "-all",
   "main_language": "python",
   "notebook_metadata_filter": "-all"
  },
  "kernelspec": {
   "display_name": "python3",
   "language": "python",
   "name": "python3"
  }
 },
 "nbformat": 4,
 "nbformat_minor": 5
}
