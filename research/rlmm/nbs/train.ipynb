{
 "cells": [
  {
   "cell_type": "markdown",
   "id": "f0ac0a73-0cd2-4bf0-9fd0-f8d805c82b2a",
   "metadata": {},
   "source": [
    "# train\n",
    "\n",
    "> Main training loop"
   ]
  },
  {
   "cell_type": "code",
   "execution_count": null,
   "id": "e46fa6e4",
   "metadata": {},
   "outputs": [],
   "source": [
    "import os\n",
    "import subprocess\n",
    "\n",
    "from dotenv import load_dotenv\n",
    "import gymnasium as gym\n",
    "import hydra\n",
    "from hydra.utils import instantiate\n",
    "from omegaconf import DictConfig\n",
    "from omegaconf import OmegaConf\n",
    "import wandb\n",
    "\n",
    "from rlmm.core import *\n",
    "from rlmm.utils import *"
   ]
  },
  {
   "cell_type": "code",
   "execution_count": null,
   "id": "885e5094",
   "metadata": {},
   "outputs": [],
   "source": [
    "@hydra.main(version_base=None, config_name=\"conf\", config_path=\"../conf\")\n",
    "def train(cfg: DictConfig) -> None:\n",
    "    load_dotenv()\n",
    "\n",
    "    cfg_dict: dict = OmegaConf.to_container(cfg, resolve=True, throw_on_missing=True)  # type: ignore\n",
    "\n",
    "    log_fn = None\n",
    "    run_id = None\n",
    "    if cfg[\"wandb\"]:\n",
    "        wandb.init(\n",
    "            config=cfg_dict,\n",
    "            project=os.environ[\"WANDB_PROJECT\"],\n",
    "            entity=os.environ[\"WANDB_ENTITY\"],\n",
    "            save_code=True,\n",
    "        )\n",
    "        wandb.config.update(\n",
    "            {\n",
    "                \"git_branch\": subprocess.check_output(\n",
    "                    \"git rev-parse --abbrev-ref HEAD\",\n",
    "                    shell=True,\n",
    "                    universal_newlines=True,\n",
    "                ).strip(),\n",
    "                \"git_hash\": subprocess.check_output(\n",
    "                    \"git rev-parse HEAD\", shell=True, universal_newlines=True\n",
    "                ).strip(),\n",
    "            }\n",
    "        )\n",
    "        wandb.run.log_code(\".\")\n",
    "\n",
    "        log_fn = wandb.log\n",
    "        run_id = wandb.run.id\n",
    "\n",
    "    set_seed(cfg[\"seed\"])\n",
    "\n",
    "    trainer = instantiate(cfg[\"trainer\"])\n",
    "    trainer = trainer(log_fn=log_fn, run_id=run_id)\n",
    "    env_fn = lambda: instantiate(cfg[\"env_train\"])\n",
    "    env = gym.vector.AsyncVectorEnv([env_fn for _ in range(cfg[\"num_envs\"])])\n",
    "    agent = instantiate(cfg[\"agent\"])\n",
    "\n",
    "    if cfg[\"dry_run\"]:\n",
    "        print(\"\")\n",
    "        return\n",
    "\n",
    "    trainer.train(env, agent, cfg[\"rounds_train\"])\n",
    "\n",
    "    if cfg[\"eval\"]:\n",
    "        print(\"Evaluating...\")\n",
    "        env = instantiate(cfg[\"env_eval\"])\n",
    "        trainer.evaluate(env, agent, cfg[\"rounds_eval\"])"
   ]
  },
  {
   "cell_type": "code",
   "execution_count": null,
   "id": "25f04324",
   "metadata": {},
   "outputs": [],
   "source": [
    "if __name__ == \"__main__\":\n",
    "    train()"
   ]
  },
  {
   "cell_type": "code",
   "execution_count": null,
   "id": "5fa2a16f-26cb-42fe-994b-bb20cd54c109",
   "metadata": {},
   "outputs": [],
   "source": []
  }
 ],
 "metadata": {
  "jupytext": {
   "cell_metadata_filter": "-all",
   "main_language": "python",
   "notebook_metadata_filter": "-all"
  },
  "kernelspec": {
   "display_name": "python3",
   "language": "python",
   "name": "python3"
  }
 },
 "nbformat": 4,
 "nbformat_minor": 5
}
