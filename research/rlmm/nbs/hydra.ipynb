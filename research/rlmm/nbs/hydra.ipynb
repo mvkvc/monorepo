{
 "cells": [
  {
   "cell_type": "markdown",
   "id": "776e86a0-9e0c-4d69-bdfe-2a1e01f56446",
   "metadata": {},
   "source": [
    "# hydra\n",
    "\n",
    "> Hydra default configuration"
   ]
  },
  {
   "cell_type": "code",
   "execution_count": null,
   "id": "e77a9c50-db15-45dd-88f0-9d06957cf605",
   "metadata": {},
   "outputs": [],
   "source": [
    "import pprint\n",
    "\n",
    "from hydra import compose\n",
    "from hydra import initialize\n",
    "from omegaconf import OmegaConf\n",
    "\n",
    "from rlmm.core import *\n",
    "from rlmm.utils import *"
   ]
  },
  {
   "cell_type": "code",
   "execution_count": null,
   "id": "4eaed029-11b1-4792-8351-92a5468d6ed5",
   "metadata": {},
   "outputs": [
    {
     "name": "stdout",
     "output_type": "stream",
     "text": [
      "defaults:\n",
      "- _self_\n",
      "- datasets@dataset_book: book\n",
      "- datasets@dataset_trades: trades\n",
      "- envs: order_book\n",
      "- wrappers:\n",
      "  - discrete_action\n",
      "a: 1\n",
      "\n"
     ]
    }
   ],
   "source": [
    "defaults = [\n",
    "    \"_self_\",\n",
    "    {\"datasets@dataset_book\": \"book\"},\n",
    "    {\"datasets@dataset_trades\": \"trades\"},\n",
    "    {\"envs\": \"order_book\"},\n",
    "    {\"wrappers\": [\"discrete_action\"]},\n",
    "    # \"envs/${envs}@env_train\",\n",
    "    # \"envs/${envs}@env_test\"\n",
    "    # {\"agents\": \"ddqn\"},\n",
    "    # {\"trainers\": \"single_agent\"},\n",
    "]\n",
    "\n",
    "params = {\"a\": 1}\n",
    "# params = {\n",
    "#     \"data\": os.path.abspath(\"../data\"),\n",
    "#     \"pair\": \"ETHUSDT\",\n",
    "#     \"dry_run\": True,\n",
    "#     \"eval\": True,\n",
    "#     \"wandb\": False,\n",
    "#     \"seed\": 42,\n",
    "#     \"env_train\": {\"time_start\": \"${start.train}\", \"time_end\": \"${end.test}\"},\n",
    "#     \"env_test\": {\"time_start\": \"${start.test}\", \"time_end\": \"${end.test}\"},\n",
    "#     \"start\": {\"train\": \"2021-03-05-08-30\", \"test\": \"2021-03-15-14-30\"},\n",
    "#     \"end\": {\"train\": \"2021-03-05-10-30\", \"test\": \"2021-03-15-16-30\"},\n",
    "# }\n",
    "\n",
    "hydra_nb(path=\"../conf/conf.yaml\", params=params, defaults=defaults)"
   ]
  },
  {
   "cell_type": "code",
   "execution_count": null,
   "id": "22c58495-432a-4b77-8361-4bedbbe75a96",
   "metadata": {},
   "outputs": [
    {
     "name": "stdout",
     "output_type": "stream",
     "text": [
      "{   'a': 1,\n",
      "    'dataset_book': {   '_target_': 'rlmm.datasets.DatasetBook',\n",
      "                        'col_prices_ask_re': '(?=.*price)(?=.*ask)',\n",
      "                        'col_prices_bid_re': '(?=.*price)(?=.*bid)',\n",
      "                        'col_sort': '\\\\d+',\n",
      "                        'col_volumes_ask_re': '(?=.*amount)(?=.*ask)',\n",
      "                        'col_volumes_bid_re': '(?=.*amount)(?=.*bid)',\n",
      "                        'path': '../data/test/parquet/book_snapshot_25/ETHUSDT',\n",
      "                        'price_levels': 10,\n",
      "                        'resample_frequency': 1,\n",
      "                        'resample_interval': 'minute',\n",
      "                        'time_end': '21_03_05-10_30_00',\n",
      "                        'time_format': '%y_%m_%d-%H_%M_%S',\n",
      "                        'time_start': '21_03_05-08_30_00'},\n",
      "    'dataset_trades': {   '_target_': 'rlmm.datasets.DatasetTrades',\n",
      "                          'col_amount': 'amount',\n",
      "                          'col_price': 'price',\n",
      "                          'col_side': 'side',\n",
      "                          'path': '../data/test/parquet/trades/ETHUSDT',\n",
      "                          'resample_frequency': 1,\n",
      "                          'resample_interval': 'minute',\n",
      "                          'time_end': '21_03_05-10_30_00',\n",
      "                          'time_format': '%y_%m_%d-%H_%M_%S',\n",
      "                          'time_start': '21_03_05-08_30_00'},\n",
      "    'envs': {   '_target_': 'rlmm.envs.OrderBookEnv',\n",
      "                'episode_length': 100,\n",
      "                'min_value': 0,\n",
      "                'order_max_age': 5,\n",
      "                'render_mode': None,\n",
      "                'seed': None},\n",
      "    'wrappers': {'_target_': 'rlmm.wrappers.DiscreteActionWrapper'}}\n"
     ]
    }
   ],
   "source": [
    "with initialize(version_base=None, config_path=\"../conf\"):\n",
    "    cfg = compose(config_name=\"conf\")\n",
    "    cfg_dict = OmegaConf.to_container(cfg, resolve=True, throw_on_missing=True)\n",
    "\n",
    "pp = pprint.PrettyPrinter(indent=4)\n",
    "pp.pprint(cfg_dict)"
   ]
  },
  {
   "cell_type": "code",
   "execution_count": null,
   "id": "aba19a85-5517-43b2-a2ad-08a7f803ba0d",
   "metadata": {},
   "outputs": [],
   "source": []
  }
 ],
 "metadata": {
  "kernelspec": {
   "display_name": "python3",
   "language": "python",
   "name": "python3"
  }
 },
 "nbformat": 4,
 "nbformat_minor": 5
}
