{
 "cells": [
  {
   "cell_type": "markdown",
   "metadata": {},
   "source": [
    "# wrappers\n",
    "\n",
    "> Environment wrappers to adjust to agent interfaces"
   ]
  },
  {
   "cell_type": "code",
   "execution_count": null,
   "metadata": {},
   "outputs": [],
   "source": [
    "# | default_exp wrappers"
   ]
  },
  {
   "cell_type": "code",
   "execution_count": null,
   "metadata": {},
   "outputs": [
    {
     "name": "stdout",
     "output_type": "stream",
     "text": [
      "The autoreload extension is already loaded. To reload it, use:\n",
      "  %reload_ext autoreload\n"
     ]
    }
   ],
   "source": [
    "# | hide\n",
    "%load_ext autoreload\n",
    "%autoreload 2"
   ]
  },
  {
   "cell_type": "code",
   "execution_count": null,
   "metadata": {},
   "outputs": [],
   "source": [
    "# | hide\n",
    "from fastcore.test import *\n",
    "from hydra import compose\n",
    "from hydra import initialize\n",
    "from hydra.utils import instantiate\n",
    "from nbdev.showdoc import *"
   ]
  },
  {
   "cell_type": "code",
   "execution_count": null,
   "metadata": {},
   "outputs": [],
   "source": [
    "# | export\n",
    "\n",
    "from typing import *\n",
    "\n",
    "from fastcore.basics import patch\n",
    "import gymnasium as gym\n",
    "from gymnasium.spaces import Box\n",
    "from gymnasium.spaces import Discrete\n",
    "\n",
    "import rlmm\n",
    "from rlmm.core import *\n",
    "from rlmm.utils import *"
   ]
  },
  {
   "cell_type": "code",
   "execution_count": null,
   "metadata": {},
   "outputs": [],
   "source": [
    "# class DiscreteActions(ActionWrapper):\n",
    "#     def __init__(self, env, disc_to_cont):\n",
    "#         super().__init__(env)\n",
    "#         self.disc_to_cont = disc_to_cont\n",
    "#         self.action_space = Discrete(len(disc_to_cont))\n",
    "\n",
    "#     def action(self, act):\n",
    "#         return self.disc_to_cont[act]"
   ]
  },
  {
   "cell_type": "code",
   "execution_count": null,
   "metadata": {},
   "outputs": [],
   "source": [
    "# | export\n",
    "\n",
    "\n",
    "class DiscreteActionWrapper(gym.ActionWrapper):\n",
    "    def __init__(self, env: gym.Env, action_dict: Dict[int, Any]):\n",
    "        super().__init__(env)\n",
    "        self.action_dict = action_dict\n",
    "        self.action_space = Discrete(len(action_dict))\n",
    "\n",
    "    def action(self, action: int):\n",
    "        if action not in self.action_dict.keys():\n",
    "            raise ValueError(\n",
    "                f\"Discrete action {action} not in action_dict {action_dict}\"\n",
    "            )\n",
    "\n",
    "        return self.action_dict[action]"
   ]
  },
  {
   "cell_type": "code",
   "execution_count": null,
   "metadata": {},
   "outputs": [
    {
     "name": "stdout",
     "output_type": "stream",
     "text": [
      "_target_: rlmm.wrappers.DiscreteActionWrapper\n",
      "\n"
     ]
    }
   ],
   "source": [
    "params = {\"_target_\": \"rlmm.wrappers.DiscreteActionWrapper\"}\n",
    "\n",
    "hydra_nb(\n",
    "    obj=DiscreteActionWrapper,\n",
    "    path=\"../conf/wrappers/discrete_action.yaml\",\n",
    "    params=params,\n",
    ")"
   ]
  },
  {
   "cell_type": "code",
   "execution_count": null,
   "metadata": {},
   "outputs": [],
   "source": [
    "with initialize(version_base=None, config_path=\"../conf\"):\n",
    "    cfg = compose(config_name=\"conf.yaml\")"
   ]
  },
  {
   "cell_type": "code",
   "execution_count": null,
   "metadata": {},
   "outputs": [
    {
     "data": {
      "text/plain": [
       "array([1.500000e+01, 3.150020e+00, 6.378770e+00, 1.503374e+01,\n",
       "       4.091820e+00, 1.070000e+00, 3.210000e-01, 4.601000e+00,\n",
       "       1.507110e+00, 1.298630e+00, 7.349200e-01, 5.729470e+00,\n",
       "       2.474070e+00, 2.882000e-01, 5.542400e-01, 2.639190e+00,\n",
       "       8.807530e+00, 3.251250e+01, 3.376740e+00, 2.746670e+00,\n",
       "       0.000000e+00, 0.000000e+00, 0.000000e+00, 0.000000e+00,\n",
       "       0.000000e+00, 0.000000e+00, 0.000000e+00, 0.000000e+00,\n",
       "       0.000000e+00, 0.000000e+00, 0.000000e+00, 0.000000e+00,\n",
       "       0.000000e+00, 0.000000e+00, 0.000000e+00, 0.000000e+00,\n",
       "       0.000000e+00, 0.000000e+00, 0.000000e+00, 0.000000e+00,\n",
       "       1.000000e+06, 1.000000e+02])"
      ]
     },
     "execution_count": null,
     "metadata": {},
     "output_type": "execute_result"
    }
   ],
   "source": [
    "dataset_book = instantiate(cfg.dataset_book)\n",
    "dataset_trades = instantiate(cfg.dataset_trades)\n",
    "env = instantiate(cfg.envs, _partial_=True)(dataset_book, dataset_trades)\n",
    "env.state"
   ]
  },
  {
   "cell_type": "code",
   "execution_count": null,
   "metadata": {},
   "outputs": [],
   "source": [
    "action_dict = {1: [(\"ask\", 2, 10)], 2: [(\"bid\", 4, 3)], 3: [(\"ask\", 1, 100)]}"
   ]
  },
  {
   "cell_type": "code",
   "execution_count": null,
   "metadata": {},
   "outputs": [
    {
     "data": {
      "text/plain": [
       "<DiscreteActionWrapper<OrderBookEnv instance>>"
      ]
     },
     "execution_count": null,
     "metadata": {},
     "output_type": "execute_result"
    }
   ],
   "source": [
    "env = DiscreteActionWrapper(env, action_dict)\n",
    "env"
   ]
  },
  {
   "cell_type": "code",
   "execution_count": null,
   "metadata": {},
   "outputs": [
    {
     "name": "stdout",
     "output_type": "stream",
     "text": [
      "[('ask', 1, 100)]\n"
     ]
    },
    {
     "data": {
      "text/plain": [
       "(array([1.599750e+01, 3.359480e+00, 6.000000e-02, 1.000000e+00,\n",
       "        3.712500e-01, 2.230250e+00, 6.750000e+00, 1.417510e+00,\n",
       "        1.795550e+00, 4.289640e+00, 3.043117e+01, 2.440770e+00,\n",
       "        1.000000e+01, 1.000000e+01, 2.025370e+00, 3.375400e-01,\n",
       "        3.270205e+01, 3.680150e+00, 1.900000e+00, 2.746670e+00,\n",
       "        0.000000e+00, 0.000000e+00, 0.000000e+00, 0.000000e+00,\n",
       "        0.000000e+00, 0.000000e+00, 0.000000e+00, 0.000000e+00,\n",
       "        0.000000e+00, 0.000000e+00, 0.000000e+00, 0.000000e+00,\n",
       "        0.000000e+00, 0.000000e+00, 0.000000e+00, 0.000000e+00,\n",
       "        0.000000e+00, 0.000000e+00, 0.000000e+00, 0.000000e+00,\n",
       "        1.000000e+06, 1.000000e+02]),\n",
       " 205.0,\n",
       " False,\n",
       " {'idx': 2,\n",
       "  'timestamp': '2021-03-05 06:18:00',\n",
       "  'cash': 1000000,\n",
       "  'inventory': 100,\n",
       "  'portfolio_value': 1148155.5})"
      ]
     },
     "execution_count": null,
     "metadata": {},
     "output_type": "execute_result"
    }
   ],
   "source": [
    "env.step(3)"
   ]
  },
  {
   "cell_type": "code",
   "execution_count": null,
   "metadata": {},
   "outputs": [
    {
     "name": "stdout",
     "output_type": "stream",
     "text": [
      "Discrete action 4 not in action_dict {1: [('ask', 2, 10)], 2: [('bid', 4, 3)], 3: [('ask', 1, 100)]}\n"
     ]
    }
   ],
   "source": [
    "try:\n",
    "    env.step(4)\n",
    "except Exception as e:\n",
    "    print(e)"
   ]
  },
  {
   "cell_type": "code",
   "execution_count": null,
   "metadata": {},
   "outputs": [],
   "source": [
    "# | hide\n",
    "import nbdev\n",
    "\n",
    "nbdev.nbdev_export()"
   ]
  },
  {
   "cell_type": "code",
   "execution_count": null,
   "metadata": {},
   "outputs": [],
   "source": []
  }
 ],
 "metadata": {
  "kernelspec": {
   "display_name": "python3",
   "language": "python",
   "name": "python3"
  }
 },
 "nbformat": 4,
 "nbformat_minor": 4
}
