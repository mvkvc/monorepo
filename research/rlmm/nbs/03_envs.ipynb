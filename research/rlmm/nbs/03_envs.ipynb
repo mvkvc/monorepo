{
 "cells": [
  {
   "cell_type": "markdown",
   "metadata": {},
   "source": [
    "# envs\n",
    "\n",
    "> Training environments implementing the gym api"
   ]
  },
  {
   "cell_type": "code",
   "execution_count": null,
   "metadata": {},
   "outputs": [],
   "source": [
    "# | default_exp envs"
   ]
  },
  {
   "cell_type": "code",
   "execution_count": null,
   "metadata": {},
   "outputs": [
    {
     "name": "stdout",
     "output_type": "stream",
     "text": [
      "The autoreload extension is already loaded. To reload it, use:\n",
      "  %reload_ext autoreload\n"
     ]
    }
   ],
   "source": [
    "# | hide\n",
    "%load_ext autoreload\n",
    "%autoreload 2"
   ]
  },
  {
   "cell_type": "code",
   "execution_count": null,
   "metadata": {},
   "outputs": [],
   "source": [
    "# | hide\n",
    "from fastcore.test import *\n",
    "from hydra import compose\n",
    "from hydra import initialize\n",
    "from hydra.utils import instantiate\n",
    "from nbdev.showdoc import *"
   ]
  },
  {
   "cell_type": "code",
   "execution_count": null,
   "metadata": {},
   "outputs": [],
   "source": [
    "# | export\n",
    "\n",
    "from collections import namedtuple\n",
    "from typing import *\n",
    "\n",
    "from fastcore.basics import patch\n",
    "import gymnasium as gym\n",
    "import numpy as np\n",
    "import pandas as pd\n",
    "\n",
    "from rlmm.core import *\n",
    "from rlmm.datasets import *"
   ]
  },
  {
   "cell_type": "code",
   "execution_count": null,
   "metadata": {},
   "outputs": [],
   "source": [
    "# Type variable to keep input action type consistent\n",
    "# ACT = TypeVar(\"ACT\")"
   ]
  },
  {
   "cell_type": "code",
   "execution_count": null,
   "metadata": {},
   "outputs": [],
   "source": [
    "# | export\n",
    "side = Literal[\"bid\", \"ask\"]"
   ]
  },
  {
   "cell_type": "code",
   "execution_count": null,
   "metadata": {},
   "outputs": [
    {
     "data": {
      "text/plain": [
       "typing.Literal['bid', 'ask']"
      ]
     },
     "execution_count": null,
     "metadata": {},
     "output_type": "execute_result"
    }
   ],
   "source": [
    "side"
   ]
  },
  {
   "cell_type": "code",
   "execution_count": null,
   "metadata": {},
   "outputs": [],
   "source": [
    "# | export\n",
    "Order = namedtuple(\"Order\", [\"idx\", \"side\", \"price\", \"amount\", \"ahead\", \"age\"])"
   ]
  },
  {
   "cell_type": "code",
   "execution_count": null,
   "metadata": {},
   "outputs": [
    {
     "data": {
      "text/plain": [
       "Order(idx=0, side='ask', price=2000, amount=100, ahead=0.0, age=0.0)"
      ]
     },
     "execution_count": null,
     "metadata": {},
     "output_type": "execute_result"
    }
   ],
   "source": [
    "o = Order(idx=0, side=\"ask\", price=2000, amount=100, ahead=0.0, age=0.0)\n",
    "o"
   ]
  },
  {
   "cell_type": "code",
   "execution_count": null,
   "metadata": {},
   "outputs": [],
   "source": [
    "# | export\n",
    "\n",
    "\n",
    "class BaseEnv(gym.Env):\n",
    "    pass"
   ]
  },
  {
   "cell_type": "code",
   "execution_count": null,
   "metadata": {},
   "outputs": [],
   "source": [
    "# | export\n",
    "\n",
    "\n",
    "class OrderBookEnv(BaseEnv):\n",
    "    metadata = {\"render_modes\": None}\n",
    "\n",
    "    def __init__(\n",
    "        self,\n",
    "        dataset_book: DatasetBook,\n",
    "        dataset_trades: DatasetTrades,\n",
    "        initial_cash: float = 1_000_000,\n",
    "        initial_inventory: float = 100,\n",
    "        min_value: float = 0,\n",
    "        order_max_age: Union[int, None] = 10,\n",
    "        episode_length: Union[int, None] = 100,\n",
    "        seed: Union[int, None] = 42,\n",
    "        render_mode: Union[str, None] = None,\n",
    "    ) -> None:\n",
    "        self.dataset_book = dataset_book\n",
    "        self.dataset_trades = dataset_trades\n",
    "        self.initial_cash = initial_cash\n",
    "        self.initial_inventory = initial_inventory\n",
    "        self.min_value = min_value\n",
    "        self.order_max_age = order_max_age\n",
    "        self.episode_length = episode_length\n",
    "        self.seed = seed\n",
    "        self.render_mode = render_mode\n",
    "\n",
    "        self.observation_space = gym.spaces.Dict(\n",
    "            {\n",
    "                \"book_volumes\": gym.spaces.Box(\n",
    "                    low=0, high=np.inf, shape=(self.dataset_book.price_levels * 2,)\n",
    "                ),\n",
    "                \"order_volumes\": gym.spaces.Box(\n",
    "                    low=0, high=np.inf, shape=(self.dataset_book.price_levels * 2,)\n",
    "                ),\n",
    "                \"cash\": gym.spaces.Box(low=0, high=np.inf, shape=(1,)),\n",
    "                \"inventory\": gym.spaces.Box(low=0, high=np.inf, shape=(1,)),\n",
    "            }\n",
    "        )\n",
    "\n",
    "        self.action_space = gym.spaces.Sequence(\n",
    "            gym.spaces.Tuple(\n",
    "                (\n",
    "                    gym.spaces.Discrete(2),\n",
    "                    gym.spaces.Discrete(self.dataset_book.price_levels),\n",
    "                    gym.spaces.Box(low=0, high=1, shape=(1,)),\n",
    "                )\n",
    "            )\n",
    "        )\n",
    "\n",
    "        # Allow having resample `False` in the reset options\n",
    "        # self.df_book, self.df_trades = self.resample_book(length=self.episode_length)\n",
    "\n",
    "        assert render_mode is None or render_mode in self.metadata[\"render_modes\"]\n",
    "        self.render_mode = render_mode\n",
    "\n",
    "        self.df_book = None\n",
    "        self.df_trades = None\n",
    "\n",
    "        self.idx = None\n",
    "        self.idx_end = None\n",
    "\n",
    "        self.book_prices_ask = None\n",
    "        self.book_prices_bid = None\n",
    "        self.book_volumes_ask = None\n",
    "        self.book_volumes_bid = None\n",
    "        self.order_volumes_ask = None\n",
    "        self.order_volumes_bid = None\n",
    "\n",
    "        self.midprice = None\n",
    "        self.cash = None\n",
    "        self.inventory = None\n",
    "        self.portfolio_value = None\n",
    "\n",
    "        self.oid = None\n",
    "        self.df_orders = None\n",
    "\n",
    "        self.reset(seed=self.seed, options={\"resample\": True})"
   ]
  },
  {
   "cell_type": "code",
   "execution_count": null,
   "metadata": {},
   "outputs": [
    {
     "name": "stdout",
     "output_type": "stream",
     "text": [
      "initial_cash: 1000000\n",
      "initial_inventory: 100\n",
      "min_value: 0\n",
      "order_max_age: 10\n",
      "episode_length: 100\n",
      "seed: 42\n",
      "render_mode: null\n",
      "_target_: rlmm.envs.OrderBookEnv\n",
      "\n"
     ]
    }
   ],
   "source": [
    "params = {\n",
    "    \"_target_\": \"rlmm.envs.OrderBookEnv\",\n",
    "    # \"dataset_book\": {\"_target_\": \"rlmm.datasets.DatasetBook\"},\n",
    "    # \"dataset_trades\": {\"_target_\": \"rlmm.datasets.DatasetBook\"},\n",
    "}\n",
    "\n",
    "hydra_nb(obj=OrderBookEnv, path=\"../conf/envs/order_book.yaml\", params=params)"
   ]
  },
  {
   "cell_type": "code",
   "execution_count": null,
   "metadata": {},
   "outputs": [
    {
     "data": {
      "text/plain": [
       "{'a': 1, 'dataset_book': {'time_start': '21_03_05-08_30_00', 'time_end': '21_03_05-10_30_00', 'time_format': '%y_%m_%d-%H_%M_%S', 'resample_interval': 'minute', 'resample_frequency': 1, 'path': '../data/test/parquet/book_snapshot_25/ETHUSDT', 'price_levels': 10, 'col_prices_ask_re': '(?=.*price)(?=.*ask)', 'col_prices_bid_re': '(?=.*price)(?=.*bid)', 'col_volumes_ask_re': '(?=.*amount)(?=.*ask)', 'col_volumes_bid_re': '(?=.*amount)(?=.*bid)', 'col_sort': '\\\\d+', '_target_': 'rlmm.datasets.DatasetBook'}, 'dataset_trades': {'time_start': '21_03_05-08_30_00', 'time_end': '21_03_05-10_30_00', 'time_format': '%y_%m_%d-%H_%M_%S', 'resample_interval': 'minute', 'resample_frequency': 1, 'path': '../data/test/parquet/trades/ETHUSDT', 'col_side': 'side', 'col_price': 'price', 'col_amount': 'amount', '_target_': 'rlmm.datasets.DatasetTrades'}, 'envs': {'initial_cash': 1000000, 'initial_inventory': 100, 'min_value': 0, 'order_max_age': 10, 'episode_length': 100, 'seed': 42, 'render_mode': None, '_target_': 'rlmm.envs.OrderBookEnv'}, 'wrappers': {'_target_': 'rlmm.wrappers.DiscreteActionWrapper'}}"
      ]
     },
     "execution_count": null,
     "metadata": {},
     "output_type": "execute_result"
    }
   ],
   "source": [
    "with initialize(version_base=None, config_path=\"../conf\"):\n",
    "    cfg = compose(config_name=\"conf.yaml\")\n",
    "\n",
    "cfg"
   ]
  },
  {
   "cell_type": "code",
   "execution_count": null,
   "metadata": {},
   "outputs": [
    {
     "data": {
      "text/html": [
       "<div>\n",
       "<style scoped>\n",
       "    .dataframe tbody tr th:only-of-type {\n",
       "        vertical-align: middle;\n",
       "    }\n",
       "\n",
       "    .dataframe tbody tr th {\n",
       "        vertical-align: top;\n",
       "    }\n",
       "\n",
       "    .dataframe thead th {\n",
       "        text-align: right;\n",
       "    }\n",
       "</style>\n",
       "<table border=\"1\" class=\"dataframe\">\n",
       "  <thead>\n",
       "    <tr style=\"text-align: right;\">\n",
       "      <th></th>\n",
       "      <th>asks[0].price</th>\n",
       "      <th>asks[1].price</th>\n",
       "      <th>asks[2].price</th>\n",
       "      <th>asks[3].price</th>\n",
       "      <th>asks[4].price</th>\n",
       "      <th>asks[5].price</th>\n",
       "      <th>asks[6].price</th>\n",
       "      <th>asks[7].price</th>\n",
       "      <th>asks[8].price</th>\n",
       "      <th>asks[9].price</th>\n",
       "      <th>...</th>\n",
       "      <th>bids[0].amount</th>\n",
       "      <th>bids[1].amount</th>\n",
       "      <th>bids[2].amount</th>\n",
       "      <th>bids[3].amount</th>\n",
       "      <th>bids[4].amount</th>\n",
       "      <th>bids[5].amount</th>\n",
       "      <th>bids[6].amount</th>\n",
       "      <th>bids[7].amount</th>\n",
       "      <th>bids[8].amount</th>\n",
       "      <th>bids[9].amount</th>\n",
       "    </tr>\n",
       "    <tr>\n",
       "      <th>ts</th>\n",
       "      <th></th>\n",
       "      <th></th>\n",
       "      <th></th>\n",
       "      <th></th>\n",
       "      <th></th>\n",
       "      <th></th>\n",
       "      <th></th>\n",
       "      <th></th>\n",
       "      <th></th>\n",
       "      <th></th>\n",
       "      <th></th>\n",
       "      <th></th>\n",
       "      <th></th>\n",
       "      <th></th>\n",
       "      <th></th>\n",
       "      <th></th>\n",
       "      <th></th>\n",
       "      <th></th>\n",
       "      <th></th>\n",
       "      <th></th>\n",
       "      <th></th>\n",
       "    </tr>\n",
       "  </thead>\n",
       "  <tbody>\n",
       "    <tr>\n",
       "      <th>2021-03-05 00:00:00</th>\n",
       "      <td>1539.24</td>\n",
       "      <td>1539.50</td>\n",
       "      <td>1539.63</td>\n",
       "      <td>1539.64</td>\n",
       "      <td>1539.65</td>\n",
       "      <td>1539.71</td>\n",
       "      <td>1539.75</td>\n",
       "      <td>1539.76</td>\n",
       "      <td>1539.78</td>\n",
       "      <td>1539.79</td>\n",
       "      <td>...</td>\n",
       "      <td>7.93114</td>\n",
       "      <td>6.45542</td>\n",
       "      <td>8.88544</td>\n",
       "      <td>0.37500</td>\n",
       "      <td>1.00000</td>\n",
       "      <td>0.38250</td>\n",
       "      <td>1.54500</td>\n",
       "      <td>0.24750</td>\n",
       "      <td>1.90000</td>\n",
       "      <td>2.59871</td>\n",
       "    </tr>\n",
       "    <tr>\n",
       "      <th>2021-03-05 00:01:00</th>\n",
       "      <td>1541.30</td>\n",
       "      <td>1541.32</td>\n",
       "      <td>1541.33</td>\n",
       "      <td>1541.41</td>\n",
       "      <td>1541.42</td>\n",
       "      <td>1541.43</td>\n",
       "      <td>1541.45</td>\n",
       "      <td>1541.46</td>\n",
       "      <td>1541.50</td>\n",
       "      <td>1541.53</td>\n",
       "      <td>...</td>\n",
       "      <td>9.37198</td>\n",
       "      <td>14.95115</td>\n",
       "      <td>5.00579</td>\n",
       "      <td>4.70000</td>\n",
       "      <td>15.00000</td>\n",
       "      <td>7.55308</td>\n",
       "      <td>2.74667</td>\n",
       "      <td>0.58500</td>\n",
       "      <td>2.90000</td>\n",
       "      <td>2.59544</td>\n",
       "    </tr>\n",
       "    <tr>\n",
       "      <th>2021-03-05 00:02:00</th>\n",
       "      <td>1533.44</td>\n",
       "      <td>1533.45</td>\n",
       "      <td>1533.46</td>\n",
       "      <td>1533.49</td>\n",
       "      <td>1533.56</td>\n",
       "      <td>1533.64</td>\n",
       "      <td>1533.66</td>\n",
       "      <td>1533.67</td>\n",
       "      <td>1533.70</td>\n",
       "      <td>1533.74</td>\n",
       "      <td>...</td>\n",
       "      <td>0.40000</td>\n",
       "      <td>5.94615</td>\n",
       "      <td>0.58749</td>\n",
       "      <td>6.19893</td>\n",
       "      <td>0.31871</td>\n",
       "      <td>2.47229</td>\n",
       "      <td>0.02600</td>\n",
       "      <td>1.00000</td>\n",
       "      <td>2.61894</td>\n",
       "      <td>0.01362</td>\n",
       "    </tr>\n",
       "    <tr>\n",
       "      <th>2021-03-05 00:03:00</th>\n",
       "      <td>1528.99</td>\n",
       "      <td>1529.00</td>\n",
       "      <td>1529.12</td>\n",
       "      <td>1529.13</td>\n",
       "      <td>1529.24</td>\n",
       "      <td>1529.28</td>\n",
       "      <td>1529.35</td>\n",
       "      <td>1529.38</td>\n",
       "      <td>1529.49</td>\n",
       "      <td>1529.51</td>\n",
       "      <td>...</td>\n",
       "      <td>0.76963</td>\n",
       "      <td>0.95991</td>\n",
       "      <td>4.64718</td>\n",
       "      <td>21.60000</td>\n",
       "      <td>1.00000</td>\n",
       "      <td>2.00000</td>\n",
       "      <td>14.11699</td>\n",
       "      <td>2.61644</td>\n",
       "      <td>7.84923</td>\n",
       "      <td>19.26800</td>\n",
       "    </tr>\n",
       "    <tr>\n",
       "      <th>2021-03-05 00:04:00</th>\n",
       "      <td>1525.18</td>\n",
       "      <td>1525.22</td>\n",
       "      <td>1525.23</td>\n",
       "      <td>1525.30</td>\n",
       "      <td>1525.40</td>\n",
       "      <td>1525.41</td>\n",
       "      <td>1525.46</td>\n",
       "      <td>1525.48</td>\n",
       "      <td>1525.50</td>\n",
       "      <td>1525.51</td>\n",
       "      <td>...</td>\n",
       "      <td>8.03000</td>\n",
       "      <td>0.00721</td>\n",
       "      <td>0.00776</td>\n",
       "      <td>0.02185</td>\n",
       "      <td>0.09188</td>\n",
       "      <td>0.02898</td>\n",
       "      <td>0.01067</td>\n",
       "      <td>1.38097</td>\n",
       "      <td>0.00844</td>\n",
       "      <td>0.01363</td>\n",
       "    </tr>\n",
       "  </tbody>\n",
       "</table>\n",
       "<p>5 rows × 40 columns</p>\n",
       "</div>"
      ],
      "text/plain": [
       "                     asks[0].price  asks[1].price  asks[2].price  \\\n",
       "ts                                                                 \n",
       "2021-03-05 00:00:00        1539.24        1539.50        1539.63   \n",
       "2021-03-05 00:01:00        1541.30        1541.32        1541.33   \n",
       "2021-03-05 00:02:00        1533.44        1533.45        1533.46   \n",
       "2021-03-05 00:03:00        1528.99        1529.00        1529.12   \n",
       "2021-03-05 00:04:00        1525.18        1525.22        1525.23   \n",
       "\n",
       "                     asks[3].price  asks[4].price  asks[5].price  \\\n",
       "ts                                                                 \n",
       "2021-03-05 00:00:00        1539.64        1539.65        1539.71   \n",
       "2021-03-05 00:01:00        1541.41        1541.42        1541.43   \n",
       "2021-03-05 00:02:00        1533.49        1533.56        1533.64   \n",
       "2021-03-05 00:03:00        1529.13        1529.24        1529.28   \n",
       "2021-03-05 00:04:00        1525.30        1525.40        1525.41   \n",
       "\n",
       "                     asks[6].price  asks[7].price  asks[8].price  \\\n",
       "ts                                                                 \n",
       "2021-03-05 00:00:00        1539.75        1539.76        1539.78   \n",
       "2021-03-05 00:01:00        1541.45        1541.46        1541.50   \n",
       "2021-03-05 00:02:00        1533.66        1533.67        1533.70   \n",
       "2021-03-05 00:03:00        1529.35        1529.38        1529.49   \n",
       "2021-03-05 00:04:00        1525.46        1525.48        1525.50   \n",
       "\n",
       "                     asks[9].price  ...  bids[0].amount  bids[1].amount  \\\n",
       "ts                                  ...                                   \n",
       "2021-03-05 00:00:00        1539.79  ...         7.93114         6.45542   \n",
       "2021-03-05 00:01:00        1541.53  ...         9.37198        14.95115   \n",
       "2021-03-05 00:02:00        1533.74  ...         0.40000         5.94615   \n",
       "2021-03-05 00:03:00        1529.51  ...         0.76963         0.95991   \n",
       "2021-03-05 00:04:00        1525.51  ...         8.03000         0.00721   \n",
       "\n",
       "                     bids[2].amount  bids[3].amount  bids[4].amount  \\\n",
       "ts                                                                    \n",
       "2021-03-05 00:00:00         8.88544         0.37500         1.00000   \n",
       "2021-03-05 00:01:00         5.00579         4.70000        15.00000   \n",
       "2021-03-05 00:02:00         0.58749         6.19893         0.31871   \n",
       "2021-03-05 00:03:00         4.64718        21.60000         1.00000   \n",
       "2021-03-05 00:04:00         0.00776         0.02185         0.09188   \n",
       "\n",
       "                     bids[5].amount  bids[6].amount  bids[7].amount  \\\n",
       "ts                                                                    \n",
       "2021-03-05 00:00:00         0.38250         1.54500         0.24750   \n",
       "2021-03-05 00:01:00         7.55308         2.74667         0.58500   \n",
       "2021-03-05 00:02:00         2.47229         0.02600         1.00000   \n",
       "2021-03-05 00:03:00         2.00000        14.11699         2.61644   \n",
       "2021-03-05 00:04:00         0.02898         0.01067         1.38097   \n",
       "\n",
       "                     bids[8].amount  bids[9].amount  \n",
       "ts                                                   \n",
       "2021-03-05 00:00:00         1.90000         2.59871  \n",
       "2021-03-05 00:01:00         2.90000         2.59544  \n",
       "2021-03-05 00:02:00         2.61894         0.01362  \n",
       "2021-03-05 00:03:00         7.84923        19.26800  \n",
       "2021-03-05 00:04:00         0.00844         0.01363  \n",
       "\n",
       "[5 rows x 40 columns]"
      ]
     },
     "execution_count": null,
     "metadata": {},
     "output_type": "execute_result"
    }
   ],
   "source": [
    "dataset_book = instantiate(cfg.dataset_book)\n",
    "dataset_book.df.head()"
   ]
  },
  {
   "cell_type": "code",
   "execution_count": null,
   "metadata": {},
   "outputs": [
    {
     "data": {
      "text/html": [
       "<div>\n",
       "<style scoped>\n",
       "    .dataframe tbody tr th:only-of-type {\n",
       "        vertical-align: middle;\n",
       "    }\n",
       "\n",
       "    .dataframe tbody tr th {\n",
       "        vertical-align: top;\n",
       "    }\n",
       "\n",
       "    .dataframe thead th {\n",
       "        text-align: right;\n",
       "    }\n",
       "</style>\n",
       "<table border=\"1\" class=\"dataframe\">\n",
       "  <thead>\n",
       "    <tr style=\"text-align: right;\">\n",
       "      <th></th>\n",
       "      <th>side</th>\n",
       "      <th>price</th>\n",
       "      <th>amount</th>\n",
       "    </tr>\n",
       "    <tr>\n",
       "      <th>ts</th>\n",
       "      <th></th>\n",
       "      <th></th>\n",
       "      <th></th>\n",
       "    </tr>\n",
       "  </thead>\n",
       "  <tbody>\n",
       "    <tr>\n",
       "      <th>2021-03-05 00:00:00</th>\n",
       "      <td>sell</td>\n",
       "      <td>1539.22</td>\n",
       "      <td>0.01318</td>\n",
       "    </tr>\n",
       "    <tr>\n",
       "      <th>2021-03-05 00:01:00</th>\n",
       "      <td>sell</td>\n",
       "      <td>1541.06</td>\n",
       "      <td>0.04885</td>\n",
       "    </tr>\n",
       "    <tr>\n",
       "      <th>2021-03-05 00:02:00</th>\n",
       "      <td>sell</td>\n",
       "      <td>1533.20</td>\n",
       "      <td>0.08495</td>\n",
       "    </tr>\n",
       "    <tr>\n",
       "      <th>2021-03-05 00:03:00</th>\n",
       "      <td>buy</td>\n",
       "      <td>1529.00</td>\n",
       "      <td>0.99997</td>\n",
       "    </tr>\n",
       "    <tr>\n",
       "      <th>2021-03-05 00:04:00</th>\n",
       "      <td>buy</td>\n",
       "      <td>1525.18</td>\n",
       "      <td>1.07000</td>\n",
       "    </tr>\n",
       "  </tbody>\n",
       "</table>\n",
       "</div>"
      ],
      "text/plain": [
       "                     side    price   amount\n",
       "ts                                         \n",
       "2021-03-05 00:00:00  sell  1539.22  0.01318\n",
       "2021-03-05 00:01:00  sell  1541.06  0.04885\n",
       "2021-03-05 00:02:00  sell  1533.20  0.08495\n",
       "2021-03-05 00:03:00   buy  1529.00  0.99997\n",
       "2021-03-05 00:04:00   buy  1525.18  1.07000"
      ]
     },
     "execution_count": null,
     "metadata": {},
     "output_type": "execute_result"
    }
   ],
   "source": [
    "dataset_trades = instantiate(cfg.dataset_trades)\n",
    "dataset_trades.df.head()"
   ]
  },
  {
   "cell_type": "code",
   "execution_count": null,
   "metadata": {},
   "outputs": [],
   "source": [
    "env = OrderBookEnv(\n",
    "    dataset_book=dataset_book,\n",
    "    dataset_trades=dataset_trades,\n",
    "    initial_cash=1_000_000,\n",
    "    initial_inventory=1_000,\n",
    ")"
   ]
  },
  {
   "cell_type": "code",
   "execution_count": null,
   "metadata": {},
   "outputs": [],
   "source": [
    "# Exists due to existing impl\n",
    "env.reset()"
   ]
  },
  {
   "cell_type": "code",
   "execution_count": null,
   "metadata": {},
   "outputs": [],
   "source": [
    "# | export\n",
    "\n",
    "\n",
    "@patch\n",
    "def resample_book(self: OrderBookEnv, length: Union[int, None] = None) -> pd.DataFrame:\n",
    "    if length is None:\n",
    "        df_book = self.dataset_book[:]\n",
    "    else:\n",
    "        length_dataset = len(self.dataset_book)\n",
    "        if length > length_dataset:\n",
    "            raise ValueError(\n",
    "                f\"Length {length} is greater than dataset length {length_dataset}\"\n",
    "            )\n",
    "\n",
    "        start = self.np_random.integers(0, length_dataset - length)\n",
    "        df_book = self.dataset_book[start : start + length]\n",
    "\n",
    "    df_trades = self.dataset_trades[df_book.index[0] : df_book.index[-1]]\n",
    "\n",
    "    return df_book, df_trades"
   ]
  },
  {
   "cell_type": "code",
   "execution_count": null,
   "metadata": {},
   "outputs": [
    {
     "data": {
      "text/html": [
       "<div>\n",
       "<style scoped>\n",
       "    .dataframe tbody tr th:only-of-type {\n",
       "        vertical-align: middle;\n",
       "    }\n",
       "\n",
       "    .dataframe tbody tr th {\n",
       "        vertical-align: top;\n",
       "    }\n",
       "\n",
       "    .dataframe thead th {\n",
       "        text-align: right;\n",
       "    }\n",
       "</style>\n",
       "<table border=\"1\" class=\"dataframe\">\n",
       "  <thead>\n",
       "    <tr style=\"text-align: right;\">\n",
       "      <th></th>\n",
       "      <th>asks[0].price</th>\n",
       "      <th>asks[1].price</th>\n",
       "      <th>asks[2].price</th>\n",
       "      <th>asks[3].price</th>\n",
       "      <th>asks[4].price</th>\n",
       "      <th>asks[5].price</th>\n",
       "      <th>asks[6].price</th>\n",
       "      <th>asks[7].price</th>\n",
       "      <th>asks[8].price</th>\n",
       "      <th>asks[9].price</th>\n",
       "      <th>...</th>\n",
       "      <th>bids[0].amount</th>\n",
       "      <th>bids[1].amount</th>\n",
       "      <th>bids[2].amount</th>\n",
       "      <th>bids[3].amount</th>\n",
       "      <th>bids[4].amount</th>\n",
       "      <th>bids[5].amount</th>\n",
       "      <th>bids[6].amount</th>\n",
       "      <th>bids[7].amount</th>\n",
       "      <th>bids[8].amount</th>\n",
       "      <th>bids[9].amount</th>\n",
       "    </tr>\n",
       "    <tr>\n",
       "      <th>ts</th>\n",
       "      <th></th>\n",
       "      <th></th>\n",
       "      <th></th>\n",
       "      <th></th>\n",
       "      <th></th>\n",
       "      <th></th>\n",
       "      <th></th>\n",
       "      <th></th>\n",
       "      <th></th>\n",
       "      <th></th>\n",
       "      <th></th>\n",
       "      <th></th>\n",
       "      <th></th>\n",
       "      <th></th>\n",
       "      <th></th>\n",
       "      <th></th>\n",
       "      <th></th>\n",
       "      <th></th>\n",
       "      <th></th>\n",
       "      <th></th>\n",
       "      <th></th>\n",
       "    </tr>\n",
       "  </thead>\n",
       "  <tbody>\n",
       "    <tr>\n",
       "      <th>2021-03-05 00:00:00</th>\n",
       "      <td>1539.24</td>\n",
       "      <td>1539.50</td>\n",
       "      <td>1539.63</td>\n",
       "      <td>1539.64</td>\n",
       "      <td>1539.65</td>\n",
       "      <td>1539.71</td>\n",
       "      <td>1539.75</td>\n",
       "      <td>1539.76</td>\n",
       "      <td>1539.78</td>\n",
       "      <td>1539.79</td>\n",
       "      <td>...</td>\n",
       "      <td>7.93114</td>\n",
       "      <td>6.45542</td>\n",
       "      <td>8.88544</td>\n",
       "      <td>0.37500</td>\n",
       "      <td>1.00000</td>\n",
       "      <td>0.38250</td>\n",
       "      <td>1.54500</td>\n",
       "      <td>0.24750</td>\n",
       "      <td>1.90000</td>\n",
       "      <td>2.59871</td>\n",
       "    </tr>\n",
       "    <tr>\n",
       "      <th>2021-03-05 00:01:00</th>\n",
       "      <td>1541.30</td>\n",
       "      <td>1541.32</td>\n",
       "      <td>1541.33</td>\n",
       "      <td>1541.41</td>\n",
       "      <td>1541.42</td>\n",
       "      <td>1541.43</td>\n",
       "      <td>1541.45</td>\n",
       "      <td>1541.46</td>\n",
       "      <td>1541.50</td>\n",
       "      <td>1541.53</td>\n",
       "      <td>...</td>\n",
       "      <td>9.37198</td>\n",
       "      <td>14.95115</td>\n",
       "      <td>5.00579</td>\n",
       "      <td>4.70000</td>\n",
       "      <td>15.00000</td>\n",
       "      <td>7.55308</td>\n",
       "      <td>2.74667</td>\n",
       "      <td>0.58500</td>\n",
       "      <td>2.90000</td>\n",
       "      <td>2.59544</td>\n",
       "    </tr>\n",
       "    <tr>\n",
       "      <th>2021-03-05 00:02:00</th>\n",
       "      <td>1533.44</td>\n",
       "      <td>1533.45</td>\n",
       "      <td>1533.46</td>\n",
       "      <td>1533.49</td>\n",
       "      <td>1533.56</td>\n",
       "      <td>1533.64</td>\n",
       "      <td>1533.66</td>\n",
       "      <td>1533.67</td>\n",
       "      <td>1533.70</td>\n",
       "      <td>1533.74</td>\n",
       "      <td>...</td>\n",
       "      <td>0.40000</td>\n",
       "      <td>5.94615</td>\n",
       "      <td>0.58749</td>\n",
       "      <td>6.19893</td>\n",
       "      <td>0.31871</td>\n",
       "      <td>2.47229</td>\n",
       "      <td>0.02600</td>\n",
       "      <td>1.00000</td>\n",
       "      <td>2.61894</td>\n",
       "      <td>0.01362</td>\n",
       "    </tr>\n",
       "    <tr>\n",
       "      <th>2021-03-05 00:03:00</th>\n",
       "      <td>1528.99</td>\n",
       "      <td>1529.00</td>\n",
       "      <td>1529.12</td>\n",
       "      <td>1529.13</td>\n",
       "      <td>1529.24</td>\n",
       "      <td>1529.28</td>\n",
       "      <td>1529.35</td>\n",
       "      <td>1529.38</td>\n",
       "      <td>1529.49</td>\n",
       "      <td>1529.51</td>\n",
       "      <td>...</td>\n",
       "      <td>0.76963</td>\n",
       "      <td>0.95991</td>\n",
       "      <td>4.64718</td>\n",
       "      <td>21.60000</td>\n",
       "      <td>1.00000</td>\n",
       "      <td>2.00000</td>\n",
       "      <td>14.11699</td>\n",
       "      <td>2.61644</td>\n",
       "      <td>7.84923</td>\n",
       "      <td>19.26800</td>\n",
       "    </tr>\n",
       "    <tr>\n",
       "      <th>2021-03-05 00:04:00</th>\n",
       "      <td>1525.18</td>\n",
       "      <td>1525.22</td>\n",
       "      <td>1525.23</td>\n",
       "      <td>1525.30</td>\n",
       "      <td>1525.40</td>\n",
       "      <td>1525.41</td>\n",
       "      <td>1525.46</td>\n",
       "      <td>1525.48</td>\n",
       "      <td>1525.50</td>\n",
       "      <td>1525.51</td>\n",
       "      <td>...</td>\n",
       "      <td>8.03000</td>\n",
       "      <td>0.00721</td>\n",
       "      <td>0.00776</td>\n",
       "      <td>0.02185</td>\n",
       "      <td>0.09188</td>\n",
       "      <td>0.02898</td>\n",
       "      <td>0.01067</td>\n",
       "      <td>1.38097</td>\n",
       "      <td>0.00844</td>\n",
       "      <td>0.01363</td>\n",
       "    </tr>\n",
       "  </tbody>\n",
       "</table>\n",
       "<p>5 rows × 40 columns</p>\n",
       "</div>"
      ],
      "text/plain": [
       "                     asks[0].price  asks[1].price  asks[2].price  \\\n",
       "ts                                                                 \n",
       "2021-03-05 00:00:00        1539.24        1539.50        1539.63   \n",
       "2021-03-05 00:01:00        1541.30        1541.32        1541.33   \n",
       "2021-03-05 00:02:00        1533.44        1533.45        1533.46   \n",
       "2021-03-05 00:03:00        1528.99        1529.00        1529.12   \n",
       "2021-03-05 00:04:00        1525.18        1525.22        1525.23   \n",
       "\n",
       "                     asks[3].price  asks[4].price  asks[5].price  \\\n",
       "ts                                                                 \n",
       "2021-03-05 00:00:00        1539.64        1539.65        1539.71   \n",
       "2021-03-05 00:01:00        1541.41        1541.42        1541.43   \n",
       "2021-03-05 00:02:00        1533.49        1533.56        1533.64   \n",
       "2021-03-05 00:03:00        1529.13        1529.24        1529.28   \n",
       "2021-03-05 00:04:00        1525.30        1525.40        1525.41   \n",
       "\n",
       "                     asks[6].price  asks[7].price  asks[8].price  \\\n",
       "ts                                                                 \n",
       "2021-03-05 00:00:00        1539.75        1539.76        1539.78   \n",
       "2021-03-05 00:01:00        1541.45        1541.46        1541.50   \n",
       "2021-03-05 00:02:00        1533.66        1533.67        1533.70   \n",
       "2021-03-05 00:03:00        1529.35        1529.38        1529.49   \n",
       "2021-03-05 00:04:00        1525.46        1525.48        1525.50   \n",
       "\n",
       "                     asks[9].price  ...  bids[0].amount  bids[1].amount  \\\n",
       "ts                                  ...                                   \n",
       "2021-03-05 00:00:00        1539.79  ...         7.93114         6.45542   \n",
       "2021-03-05 00:01:00        1541.53  ...         9.37198        14.95115   \n",
       "2021-03-05 00:02:00        1533.74  ...         0.40000         5.94615   \n",
       "2021-03-05 00:03:00        1529.51  ...         0.76963         0.95991   \n",
       "2021-03-05 00:04:00        1525.51  ...         8.03000         0.00721   \n",
       "\n",
       "                     bids[2].amount  bids[3].amount  bids[4].amount  \\\n",
       "ts                                                                    \n",
       "2021-03-05 00:00:00         8.88544         0.37500         1.00000   \n",
       "2021-03-05 00:01:00         5.00579         4.70000        15.00000   \n",
       "2021-03-05 00:02:00         0.58749         6.19893         0.31871   \n",
       "2021-03-05 00:03:00         4.64718        21.60000         1.00000   \n",
       "2021-03-05 00:04:00         0.00776         0.02185         0.09188   \n",
       "\n",
       "                     bids[5].amount  bids[6].amount  bids[7].amount  \\\n",
       "ts                                                                    \n",
       "2021-03-05 00:00:00         0.38250         1.54500         0.24750   \n",
       "2021-03-05 00:01:00         7.55308         2.74667         0.58500   \n",
       "2021-03-05 00:02:00         2.47229         0.02600         1.00000   \n",
       "2021-03-05 00:03:00         2.00000        14.11699         2.61644   \n",
       "2021-03-05 00:04:00         0.02898         0.01067         1.38097   \n",
       "\n",
       "                     bids[8].amount  bids[9].amount  \n",
       "ts                                                   \n",
       "2021-03-05 00:00:00         1.90000         2.59871  \n",
       "2021-03-05 00:01:00         2.90000         2.59544  \n",
       "2021-03-05 00:02:00         2.61894         0.01362  \n",
       "2021-03-05 00:03:00         7.84923        19.26800  \n",
       "2021-03-05 00:04:00         0.00844         0.01363  \n",
       "\n",
       "[5 rows x 40 columns]"
      ]
     },
     "execution_count": null,
     "metadata": {},
     "output_type": "execute_result"
    }
   ],
   "source": [
    "df_book, df_trades = env.resample_book()\n",
    "df_book.head()"
   ]
  },
  {
   "cell_type": "code",
   "execution_count": null,
   "metadata": {},
   "outputs": [
    {
     "data": {
      "text/html": [
       "<div>\n",
       "<style scoped>\n",
       "    .dataframe tbody tr th:only-of-type {\n",
       "        vertical-align: middle;\n",
       "    }\n",
       "\n",
       "    .dataframe tbody tr th {\n",
       "        vertical-align: top;\n",
       "    }\n",
       "\n",
       "    .dataframe thead th {\n",
       "        text-align: right;\n",
       "    }\n",
       "</style>\n",
       "<table border=\"1\" class=\"dataframe\">\n",
       "  <thead>\n",
       "    <tr style=\"text-align: right;\">\n",
       "      <th></th>\n",
       "      <th>side</th>\n",
       "      <th>price</th>\n",
       "      <th>amount</th>\n",
       "    </tr>\n",
       "    <tr>\n",
       "      <th>ts</th>\n",
       "      <th></th>\n",
       "      <th></th>\n",
       "      <th></th>\n",
       "    </tr>\n",
       "  </thead>\n",
       "  <tbody>\n",
       "    <tr>\n",
       "      <th>2021-03-05 00:00:00</th>\n",
       "      <td>sell</td>\n",
       "      <td>1539.22</td>\n",
       "      <td>0.01318</td>\n",
       "    </tr>\n",
       "    <tr>\n",
       "      <th>2021-03-05 00:01:00</th>\n",
       "      <td>sell</td>\n",
       "      <td>1541.06</td>\n",
       "      <td>0.04885</td>\n",
       "    </tr>\n",
       "    <tr>\n",
       "      <th>2021-03-05 00:02:00</th>\n",
       "      <td>sell</td>\n",
       "      <td>1533.20</td>\n",
       "      <td>0.08495</td>\n",
       "    </tr>\n",
       "    <tr>\n",
       "      <th>2021-03-05 00:03:00</th>\n",
       "      <td>buy</td>\n",
       "      <td>1529.00</td>\n",
       "      <td>0.99997</td>\n",
       "    </tr>\n",
       "    <tr>\n",
       "      <th>2021-03-05 00:04:00</th>\n",
       "      <td>buy</td>\n",
       "      <td>1525.18</td>\n",
       "      <td>1.07000</td>\n",
       "    </tr>\n",
       "  </tbody>\n",
       "</table>\n",
       "</div>"
      ],
      "text/plain": [
       "                     side    price   amount\n",
       "ts                                         \n",
       "2021-03-05 00:00:00  sell  1539.22  0.01318\n",
       "2021-03-05 00:01:00  sell  1541.06  0.04885\n",
       "2021-03-05 00:02:00  sell  1533.20  0.08495\n",
       "2021-03-05 00:03:00   buy  1529.00  0.99997\n",
       "2021-03-05 00:04:00   buy  1525.18  1.07000"
      ]
     },
     "execution_count": null,
     "metadata": {},
     "output_type": "execute_result"
    }
   ],
   "source": [
    "df_trades.head()"
   ]
  },
  {
   "cell_type": "code",
   "execution_count": null,
   "metadata": {},
   "outputs": [],
   "source": [
    "# | export\n",
    "\n",
    "\n",
    "@patch\n",
    "def update_book(self: OrderBookEnv) -> None:\n",
    "    ts = self.df_book.index[self.idx]\n",
    "    self.book_prices_bid = self.df_book.loc[\n",
    "        ts, self.dataset_book.cols_prices_bid\n",
    "    ].values\n",
    "    self.book_prices_ask = self.df_book.loc[\n",
    "        ts, self.dataset_book.cols_prices_ask\n",
    "    ].values\n",
    "    self.book_volumes_bid = self.df_book.loc[\n",
    "        ts, self.dataset_book.cols_volumes_bid\n",
    "    ].values\n",
    "    self.book_volumes_ask = self.df_book.loc[\n",
    "        ts, self.dataset_book.cols_volumes_ask\n",
    "    ].values"
   ]
  },
  {
   "cell_type": "code",
   "execution_count": null,
   "metadata": {},
   "outputs": [
    {
     "data": {
      "text/plain": [
       "(array([1539.23, 1539.22, 1538.99, 1538.91, 1538.89, 1538.86, 1538.83,\n",
       "        1538.82, 1538.79, 1538.77]),\n",
       " array([1539.24, 1539.5 , 1539.63, 1539.64, 1539.65, 1539.71, 1539.75,\n",
       "        1539.76, 1539.78, 1539.79]),\n",
       " array([7.93114, 6.45542, 8.88544, 0.375  , 1.     , 0.3825 , 1.545  ,\n",
       "        0.2475 , 1.9    , 2.59871]),\n",
       " array([2.9426 , 0.0236 , 7.37601, 1.45969, 5.     , 3.49522, 4.54795,\n",
       "        1.96328, 9.00241, 6.4188 ]))"
      ]
     },
     "execution_count": null,
     "metadata": {},
     "output_type": "execute_result"
    }
   ],
   "source": [
    "env.df_book = df_book\n",
    "env.idx = 0\n",
    "env.update_book()\n",
    "env.book_prices_bid, env.book_prices_ask, env.book_volumes_bid, env.book_volumes_ask"
   ]
  },
  {
   "cell_type": "code",
   "execution_count": null,
   "metadata": {},
   "outputs": [],
   "source": [
    "# | export\n",
    "\n",
    "\n",
    "@patch\n",
    "def get_midprice(self: OrderBookEnv) -> float:\n",
    "    return (self.book_prices_ask[0] + self.book_prices_bid[0]) / 2"
   ]
  },
  {
   "cell_type": "code",
   "execution_count": null,
   "metadata": {},
   "outputs": [
    {
     "data": {
      "text/plain": [
       "1539.2350000000001"
      ]
     },
     "execution_count": null,
     "metadata": {},
     "output_type": "execute_result"
    }
   ],
   "source": [
    "env.get_midprice()"
   ]
  },
  {
   "cell_type": "code",
   "execution_count": null,
   "metadata": {},
   "outputs": [],
   "source": [
    "# | export\n",
    "\n",
    "\n",
    "@patch\n",
    "def get_pv(\n",
    "    self: OrderBookEnv,\n",
    ") -> float:\n",
    "    return self.cash + self.inventory * self.get_midprice()"
   ]
  },
  {
   "cell_type": "code",
   "execution_count": null,
   "metadata": {},
   "outputs": [
    {
     "data": {
      "text/plain": [
       "2539235.0"
      ]
     },
     "execution_count": null,
     "metadata": {},
     "output_type": "execute_result"
    }
   ],
   "source": [
    "env.cash = 1_000_000\n",
    "env.inventory = 1_000\n",
    "env.get_pv()"
   ]
  },
  {
   "cell_type": "code",
   "execution_count": null,
   "metadata": {},
   "outputs": [],
   "source": [
    "# | export\n",
    "\n",
    "\n",
    "@patch\n",
    "def build_df_orders(\n",
    "    self: OrderBookEnv, orders: Union[List[Order], None] = None\n",
    ") -> pd.DataFrame:\n",
    "    out = {\"idx\": [], \"side\": [], \"price\": [], \"amount\": [], \"ahead\": [], \"age\": []}\n",
    "\n",
    "    if orders is not None:\n",
    "        for order in orders:\n",
    "            out[\"idx\"].append(order.idx)\n",
    "            out[\"side\"].append(order.side)\n",
    "            out[\"price\"].append(order.price)\n",
    "            out[\"amount\"].append(order.amount)\n",
    "            out[\"ahead\"].append(order.ahead)\n",
    "            out[\"age\"].append(order.age)\n",
    "\n",
    "    return pd.DataFrame(out)"
   ]
  },
  {
   "cell_type": "code",
   "execution_count": null,
   "metadata": {},
   "outputs": [
    {
     "data": {
      "text/html": [
       "<div>\n",
       "<style scoped>\n",
       "    .dataframe tbody tr th:only-of-type {\n",
       "        vertical-align: middle;\n",
       "    }\n",
       "\n",
       "    .dataframe tbody tr th {\n",
       "        vertical-align: top;\n",
       "    }\n",
       "\n",
       "    .dataframe thead th {\n",
       "        text-align: right;\n",
       "    }\n",
       "</style>\n",
       "<table border=\"1\" class=\"dataframe\">\n",
       "  <thead>\n",
       "    <tr style=\"text-align: right;\">\n",
       "      <th></th>\n",
       "      <th>idx</th>\n",
       "      <th>side</th>\n",
       "      <th>price</th>\n",
       "      <th>amount</th>\n",
       "      <th>ahead</th>\n",
       "      <th>age</th>\n",
       "    </tr>\n",
       "  </thead>\n",
       "  <tbody>\n",
       "  </tbody>\n",
       "</table>\n",
       "</div>"
      ],
      "text/plain": [
       "Empty DataFrame\n",
       "Columns: [idx, side, price, amount, ahead, age]\n",
       "Index: []"
      ]
     },
     "execution_count": null,
     "metadata": {},
     "output_type": "execute_result"
    }
   ],
   "source": [
    "env.build_df_orders()"
   ]
  },
  {
   "cell_type": "code",
   "execution_count": null,
   "metadata": {},
   "outputs": [
    {
     "data": {
      "text/html": [
       "<div>\n",
       "<style scoped>\n",
       "    .dataframe tbody tr th:only-of-type {\n",
       "        vertical-align: middle;\n",
       "    }\n",
       "\n",
       "    .dataframe tbody tr th {\n",
       "        vertical-align: top;\n",
       "    }\n",
       "\n",
       "    .dataframe thead th {\n",
       "        text-align: right;\n",
       "    }\n",
       "</style>\n",
       "<table border=\"1\" class=\"dataframe\">\n",
       "  <thead>\n",
       "    <tr style=\"text-align: right;\">\n",
       "      <th></th>\n",
       "      <th>idx</th>\n",
       "      <th>side</th>\n",
       "      <th>price</th>\n",
       "      <th>amount</th>\n",
       "      <th>ahead</th>\n",
       "      <th>age</th>\n",
       "    </tr>\n",
       "  </thead>\n",
       "  <tbody>\n",
       "    <tr>\n",
       "      <th>0</th>\n",
       "      <td>0</td>\n",
       "      <td>ask</td>\n",
       "      <td>2000</td>\n",
       "      <td>100</td>\n",
       "      <td>0.0</td>\n",
       "      <td>0.0</td>\n",
       "    </tr>\n",
       "  </tbody>\n",
       "</table>\n",
       "</div>"
      ],
      "text/plain": [
       "   idx side  price  amount  ahead  age\n",
       "0    0  ask   2000     100    0.0  0.0"
      ]
     },
     "execution_count": null,
     "metadata": {},
     "output_type": "execute_result"
    }
   ],
   "source": [
    "env.df_orders = env.build_df_orders([o])\n",
    "env.df_orders"
   ]
  },
  {
   "cell_type": "code",
   "execution_count": null,
   "metadata": {},
   "outputs": [],
   "source": [
    "# | export\n",
    "\n",
    "\n",
    "@patch\n",
    "def update_order_volumes(self: OrderBookEnv):\n",
    "    order_volumes_bid = np.zeros(self.dataset_book.price_levels)\n",
    "    order_volumes_ask = np.zeros(self.dataset_book.price_levels)\n",
    "\n",
    "    if not self.df_orders.empty:\n",
    "        order_combos = self.df_orders[[\"side\", \"price\", \"amount\"]]\n",
    "        order_combos_ask = order_combos[order_combos[\"side\"] == \"ask\"]\n",
    "        order_combos_bid = order_combos[order_combos[\"side\"] == \"bid\"]\n",
    "\n",
    "        if not order_combos_ask.empty:\n",
    "            order_combos_ask = (\n",
    "                order_combos_ask[[\"price\", \"amount\"]].groupby(by=\"price\").sum()\n",
    "            )\n",
    "            idx_orders_in_prices = np.where(\n",
    "                np.isin(self.book_prices_ask, order_combos_ask.index)\n",
    "            )[0]\n",
    "            idx_prices_in_orders = np.where(\n",
    "                np.isin(order_combos_ask.index.values, self.book_prices_ask)\n",
    "            )[0]\n",
    "\n",
    "            # print(\"order_vols: \", order_volumes_ask)\n",
    "            # print(\"order_combs: \", order_combos_ask)\n",
    "            # print(idx_orders_in_prices, idx_prices_in_orders)\n",
    "            # print(order_volumes_ask[idx_orders_in_prices])\n",
    "            # print(order_combos_ask[\"amount\"].iloc[\n",
    "            #         idx_prices_in_orders\n",
    "            #     ].values)\n",
    "            if len(idx_orders_in_prices) == len(idx_prices_in_orders) != 0:\n",
    "                order_volumes_ask[idx_orders_in_prices] = (\n",
    "                    order_combos_ask[\"amount\"].iloc[idx_prices_in_orders].values\n",
    "                )\n",
    "\n",
    "        if not order_combos_bid.empty:\n",
    "            order_combos_bid = (\n",
    "                order_combos_bid[[\"price\", \"amount\"]].groupby(by=\"price\").sum()\n",
    "            )\n",
    "            idx_orders_in_prices = np.where(\n",
    "                np.isin(self.book_prices_bid, order_combos_bid.index)\n",
    "            )[0]\n",
    "            idx_prices_in_orders = np.where(\n",
    "                np.isin(order_combos_bid.index.values, self.book_prices_bid)\n",
    "            )[0]\n",
    "\n",
    "            if len(idx_orders_in_prices) == len(idx_prices_in_orders) != 0:\n",
    "                order_volumes_bid[idx_orders_in_prices] = order_combos_bid[\n",
    "                    \"amount\"\n",
    "                ].iloc[idx_prices_in_orders]\n",
    "\n",
    "    self.order_volumes_bid = order_volumes_bid\n",
    "    self.order_volumes_ask = order_volumes_ask"
   ]
  },
  {
   "cell_type": "code",
   "execution_count": null,
   "metadata": {},
   "outputs": [
    {
     "data": {
      "text/html": [
       "<div>\n",
       "<style scoped>\n",
       "    .dataframe tbody tr th:only-of-type {\n",
       "        vertical-align: middle;\n",
       "    }\n",
       "\n",
       "    .dataframe tbody tr th {\n",
       "        vertical-align: top;\n",
       "    }\n",
       "\n",
       "    .dataframe thead th {\n",
       "        text-align: right;\n",
       "    }\n",
       "</style>\n",
       "<table border=\"1\" class=\"dataframe\">\n",
       "  <thead>\n",
       "    <tr style=\"text-align: right;\">\n",
       "      <th></th>\n",
       "      <th>idx</th>\n",
       "      <th>side</th>\n",
       "      <th>price</th>\n",
       "      <th>amount</th>\n",
       "      <th>ahead</th>\n",
       "      <th>age</th>\n",
       "    </tr>\n",
       "  </thead>\n",
       "  <tbody>\n",
       "    <tr>\n",
       "      <th>0</th>\n",
       "      <td>0</td>\n",
       "      <td>ask</td>\n",
       "      <td>2000</td>\n",
       "      <td>100</td>\n",
       "      <td>0.0</td>\n",
       "      <td>0.0</td>\n",
       "    </tr>\n",
       "  </tbody>\n",
       "</table>\n",
       "</div>"
      ],
      "text/plain": [
       "   idx side  price  amount  ahead  age\n",
       "0    0  ask   2000     100    0.0  0.0"
      ]
     },
     "execution_count": null,
     "metadata": {},
     "output_type": "execute_result"
    }
   ],
   "source": [
    "# env.df_orders = env.df_orders.append(\n",
    "#     pd.DataFrame({\n",
    "#         \"idx\": [1, 2],\n",
    "#         \"side\": [\"ask\", \"bid\"],\n",
    "#         \"price\": [env.book_prices_ask[3], env.book_prices_bid[3]],\n",
    "#         \"amount\": [100, 200],\n",
    "#         \"ahead\": [0, 0],\n",
    "#         \"age\": [0, 0]}))\n",
    "env.df_orders"
   ]
  },
  {
   "cell_type": "code",
   "execution_count": null,
   "metadata": {},
   "outputs": [
    {
     "data": {
      "text/plain": [
       "(array([1539.23, 1539.22, 1538.99, 1538.91, 1538.89, 1538.86, 1538.83,\n",
       "        1538.82, 1538.79, 1538.77]),\n",
       " array([1539.24, 1539.5 , 1539.63, 1539.64, 1539.65, 1539.71, 1539.75,\n",
       "        1539.76, 1539.78, 1539.79]))"
      ]
     },
     "execution_count": null,
     "metadata": {},
     "output_type": "execute_result"
    }
   ],
   "source": [
    "env.book_prices_bid, env.book_prices_ask"
   ]
  },
  {
   "cell_type": "code",
   "execution_count": null,
   "metadata": {},
   "outputs": [
    {
     "data": {
      "text/plain": [
       "(array([0., 0., 0., 0., 0., 0., 0., 0., 0., 0.]),\n",
       " array([0., 0., 0., 0., 0., 0., 0., 0., 0., 0.]))"
      ]
     },
     "execution_count": null,
     "metadata": {},
     "output_type": "execute_result"
    }
   ],
   "source": [
    "env.update_order_volumes()\n",
    "env.order_volumes_bid, env.order_volumes_ask"
   ]
  },
  {
   "cell_type": "code",
   "execution_count": null,
   "metadata": {},
   "outputs": [],
   "source": [
    "# | export\n",
    "\n",
    "\n",
    "@patch\n",
    "def get_obs(self: OrderBookEnv) -> np.ndarray:\n",
    "    return np.concatenate(\n",
    "        [\n",
    "            np.flip(self.book_volumes_bid),\n",
    "            self.book_volumes_ask,\n",
    "            np.flip(self.order_volumes_bid),\n",
    "            self.order_volumes_ask,\n",
    "            np.array([self.cash, self.inventory]),\n",
    "        ]\n",
    "    )"
   ]
  },
  {
   "cell_type": "code",
   "execution_count": null,
   "metadata": {},
   "outputs": [
    {
     "data": {
      "text/plain": [
       "array([2.59871e+00, 1.90000e+00, 2.47500e-01, 1.54500e+00, 3.82500e-01,\n",
       "       1.00000e+00, 3.75000e-01, 8.88544e+00, 6.45542e+00, 7.93114e+00,\n",
       "       2.94260e+00, 2.36000e-02, 7.37601e+00, 1.45969e+00, 5.00000e+00,\n",
       "       3.49522e+00, 4.54795e+00, 1.96328e+00, 9.00241e+00, 6.41880e+00,\n",
       "       0.00000e+00, 0.00000e+00, 0.00000e+00, 0.00000e+00, 0.00000e+00,\n",
       "       0.00000e+00, 0.00000e+00, 0.00000e+00, 0.00000e+00, 0.00000e+00,\n",
       "       0.00000e+00, 0.00000e+00, 0.00000e+00, 0.00000e+00, 0.00000e+00,\n",
       "       0.00000e+00, 0.00000e+00, 0.00000e+00, 0.00000e+00, 0.00000e+00,\n",
       "       1.00000e+06, 1.00000e+03])"
      ]
     },
     "execution_count": null,
     "metadata": {},
     "output_type": "execute_result"
    }
   ],
   "source": [
    "env.get_obs()"
   ]
  },
  {
   "cell_type": "code",
   "execution_count": null,
   "metadata": {},
   "outputs": [],
   "source": [
    "# | export\n",
    "\n",
    "\n",
    "@patch\n",
    "def get_info(self: OrderBookEnv):\n",
    "    return {\n",
    "        \"idx\": self.idx,\n",
    "        \"timestamp\": str(self.df_book.index[self.idx]),\n",
    "        \"cash\": self.cash,\n",
    "        \"inventory\": self.inventory,\n",
    "        \"portfolio_value\": self.get_pv(),\n",
    "        #         \"vwap\": self.vwap,\n",
    "        #         \"total_reward\": self.total_reward,\n",
    "    }"
   ]
  },
  {
   "cell_type": "code",
   "execution_count": null,
   "metadata": {},
   "outputs": [
    {
     "data": {
      "text/plain": [
       "{'idx': 0,\n",
       " 'timestamp': '2021-03-05 00:00:00',\n",
       " 'cash': 1000000,\n",
       " 'inventory': 1000,\n",
       " 'portfolio_value': 2539235.0}"
      ]
     },
     "execution_count": null,
     "metadata": {},
     "output_type": "execute_result"
    }
   ],
   "source": [
    "env.idx = 0\n",
    "env.get_info()"
   ]
  },
  {
   "cell_type": "code",
   "execution_count": null,
   "metadata": {},
   "outputs": [],
   "source": [
    "# | export\n",
    "\n",
    "\n",
    "@patch\n",
    "def reset(\n",
    "    self: OrderBookEnv,\n",
    "    seed: Union[int, None] = None,\n",
    "    options: Union[Dict, None] = {\"resample\": False},\n",
    "):\n",
    "    super(OrderBookEnv, self).reset(seed=seed)\n",
    "\n",
    "    if options[\"resample\"]:\n",
    "        self.df_book, self.df_trades = self.resample_book(length=self.episode_length)\n",
    "\n",
    "    self.idx = 0\n",
    "    if self.episode_length is not None:\n",
    "        self.idx_end = self.idx + self.episode_length\n",
    "    else:\n",
    "        self.idx_end = len(self.df_book)\n",
    "\n",
    "    self.oid = 0\n",
    "    self.df_orders = self.build_df_orders()\n",
    "\n",
    "    self.update_book()\n",
    "    self.update_order_volumes()\n",
    "\n",
    "    self.cash = self.initial_cash\n",
    "    self.inventory = self.initial_inventory\n",
    "    self.portfolio_value = self.get_pv()\n",
    "    self.total_reward = 0\n",
    "\n",
    "    obs = self.get_obs()\n",
    "    info = self.get_info()\n",
    "\n",
    "    self.state = obs\n",
    "    self.info = info\n",
    "\n",
    "    return obs, info"
   ]
  },
  {
   "cell_type": "code",
   "execution_count": null,
   "metadata": {},
   "outputs": [
    {
     "data": {
      "text/plain": [
       "(array([2.59871e+00, 1.90000e+00, 2.47500e-01, 1.54500e+00, 3.82500e-01,\n",
       "        1.00000e+00, 3.75000e-01, 8.88544e+00, 6.45542e+00, 7.93114e+00,\n",
       "        2.94260e+00, 2.36000e-02, 7.37601e+00, 1.45969e+00, 5.00000e+00,\n",
       "        3.49522e+00, 4.54795e+00, 1.96328e+00, 9.00241e+00, 6.41880e+00,\n",
       "        0.00000e+00, 0.00000e+00, 0.00000e+00, 0.00000e+00, 0.00000e+00,\n",
       "        0.00000e+00, 0.00000e+00, 0.00000e+00, 0.00000e+00, 0.00000e+00,\n",
       "        0.00000e+00, 0.00000e+00, 0.00000e+00, 0.00000e+00, 0.00000e+00,\n",
       "        0.00000e+00, 0.00000e+00, 0.00000e+00, 0.00000e+00, 0.00000e+00,\n",
       "        1.00000e+06, 1.00000e+03]),\n",
       " {'idx': 0,\n",
       "  'timestamp': '2021-03-05 00:00:00',\n",
       "  'cash': 1000000,\n",
       "  'inventory': 1000,\n",
       "  'portfolio_value': 2539235.0})"
      ]
     },
     "execution_count": null,
     "metadata": {},
     "output_type": "execute_result"
    }
   ],
   "source": [
    "env.reset()"
   ]
  },
  {
   "cell_type": "code",
   "execution_count": null,
   "metadata": {},
   "outputs": [
    {
     "data": {
      "text/plain": [
       "(array([1.500000e+01, 3.150020e+00, 6.378770e+00, 1.503374e+01,\n",
       "        4.091820e+00, 1.070000e+00, 3.210000e-01, 4.601000e+00,\n",
       "        1.507110e+00, 1.298630e+00, 7.349200e-01, 5.729470e+00,\n",
       "        2.474070e+00, 2.882000e-01, 5.542400e-01, 2.639190e+00,\n",
       "        8.807530e+00, 3.251250e+01, 3.376740e+00, 2.746670e+00,\n",
       "        0.000000e+00, 0.000000e+00, 0.000000e+00, 0.000000e+00,\n",
       "        0.000000e+00, 0.000000e+00, 0.000000e+00, 0.000000e+00,\n",
       "        0.000000e+00, 0.000000e+00, 0.000000e+00, 0.000000e+00,\n",
       "        0.000000e+00, 0.000000e+00, 0.000000e+00, 0.000000e+00,\n",
       "        0.000000e+00, 0.000000e+00, 0.000000e+00, 0.000000e+00,\n",
       "        1.000000e+06, 1.000000e+03]),\n",
       " {'idx': 0,\n",
       "  'timestamp': '2021-03-05 06:16:00',\n",
       "  'cash': 1000000,\n",
       "  'inventory': 1000,\n",
       "  'portfolio_value': 2480655.0})"
      ]
     },
     "execution_count": null,
     "metadata": {},
     "output_type": "execute_result"
    }
   ],
   "source": [
    "env.reset(options={\"resample\": True})"
   ]
  },
  {
   "cell_type": "code",
   "execution_count": null,
   "metadata": {},
   "outputs": [],
   "source": [
    "# | export\n",
    "\n",
    "\n",
    "@patch\n",
    "def build_order(self: OrderBookEnv, side: side, price_level: int, amount: float):\n",
    "    if side == \"bid\":\n",
    "        price = self.book_prices_bid[price_level]\n",
    "        amount = self.cash * amount / price\n",
    "    elif side == \"ask\":\n",
    "        price = self.book_prices_ask[price_level]\n",
    "        amount = self.inventory * amount\n",
    "    else:\n",
    "        raise ValueError(\"Invalid side value\")\n",
    "\n",
    "    return Order(idx=self.oid, side=side, price=price, amount=amount, ahead=0, age=0)"
   ]
  },
  {
   "cell_type": "code",
   "execution_count": null,
   "metadata": {},
   "outputs": [
    {
     "data": {
      "text/plain": [
       "(1000000,\n",
       " 1000,\n",
       " Order(idx=0, side='ask', price=1480.97, amount=200.0, ahead=0, age=0))"
      ]
     },
     "execution_count": null,
     "metadata": {},
     "output_type": "execute_result"
    }
   ],
   "source": [
    "o = env.build_order(side=\"ask\", price_level=3, amount=0.2)\n",
    "env.cash, env.inventory, o"
   ]
  },
  {
   "cell_type": "code",
   "execution_count": null,
   "metadata": {},
   "outputs": [],
   "source": [
    "# | export\n",
    "\n",
    "\n",
    "@patch\n",
    "def fill_effects(self: OrderBookEnv, order: Order):\n",
    "    completed = False\n",
    "    cash_amount = order.price * order.amount\n",
    "\n",
    "    if order.side == \"bid\":\n",
    "        if self.cash >= cash_amount:\n",
    "            completed = True\n",
    "            self.cash -= cash_amount\n",
    "            self.inventory += order.amount\n",
    "\n",
    "    elif order.side == \"ask\":\n",
    "        if self.inventory >= order.amount:\n",
    "            completed = True\n",
    "            self.inventory -= order.amount\n",
    "            self.cash += cash_amount\n",
    "\n",
    "    return completed"
   ]
  },
  {
   "cell_type": "code",
   "execution_count": null,
   "metadata": {},
   "outputs": [
    {
     "data": {
      "text/plain": [
       "(1000000,\n",
       " 1000,\n",
       " Order(idx=0, side='ask', price=1480.97, amount=200.0, ahead=0, age=0))"
      ]
     },
     "execution_count": null,
     "metadata": {},
     "output_type": "execute_result"
    }
   ],
   "source": [
    "env.cash, env.inventory, o"
   ]
  },
  {
   "cell_type": "code",
   "execution_count": null,
   "metadata": {},
   "outputs": [
    {
     "data": {
      "text/plain": [
       "True"
      ]
     },
     "execution_count": null,
     "metadata": {},
     "output_type": "execute_result"
    }
   ],
   "source": [
    "env.fill_effects(o)"
   ]
  },
  {
   "cell_type": "code",
   "execution_count": null,
   "metadata": {},
   "outputs": [
    {
     "data": {
      "text/plain": [
       "(1296194.0, 800.0)"
      ]
     },
     "execution_count": null,
     "metadata": {},
     "output_type": "execute_result"
    }
   ],
   "source": [
    "env.cash, env.inventory"
   ]
  },
  {
   "cell_type": "code",
   "execution_count": null,
   "metadata": {},
   "outputs": [],
   "source": [
    "# | export\n",
    "\n",
    "\n",
    "@patch\n",
    "def build_df_orders(\n",
    "    self: OrderBookEnv, orders: Union[List[Order], None] = None\n",
    ") -> pd.DataFrame:\n",
    "    out = {\"idx\": [], \"side\": [], \"price\": [], \"amount\": [], \"ahead\": [], \"age\": []}\n",
    "\n",
    "    if orders is not None:\n",
    "        for order in orders:\n",
    "            out[\"idx\"].append(order.idx)\n",
    "            out[\"side\"].append(order.side)\n",
    "            out[\"price\"].append(order.price)\n",
    "            out[\"amount\"].append(order.amount)\n",
    "            out[\"ahead\"].append(order.ahead)\n",
    "            out[\"age\"].append(order.age)\n",
    "\n",
    "    return pd.DataFrame(out)"
   ]
  },
  {
   "cell_type": "code",
   "execution_count": null,
   "metadata": {},
   "outputs": [
    {
     "data": {
      "text/html": [
       "<div>\n",
       "<style scoped>\n",
       "    .dataframe tbody tr th:only-of-type {\n",
       "        vertical-align: middle;\n",
       "    }\n",
       "\n",
       "    .dataframe tbody tr th {\n",
       "        vertical-align: top;\n",
       "    }\n",
       "\n",
       "    .dataframe thead th {\n",
       "        text-align: right;\n",
       "    }\n",
       "</style>\n",
       "<table border=\"1\" class=\"dataframe\">\n",
       "  <thead>\n",
       "    <tr style=\"text-align: right;\">\n",
       "      <th></th>\n",
       "      <th>idx</th>\n",
       "      <th>side</th>\n",
       "      <th>price</th>\n",
       "      <th>amount</th>\n",
       "      <th>ahead</th>\n",
       "      <th>age</th>\n",
       "    </tr>\n",
       "  </thead>\n",
       "  <tbody>\n",
       "  </tbody>\n",
       "</table>\n",
       "</div>"
      ],
      "text/plain": [
       "Empty DataFrame\n",
       "Columns: [idx, side, price, amount, ahead, age]\n",
       "Index: []"
      ]
     },
     "execution_count": null,
     "metadata": {},
     "output_type": "execute_result"
    }
   ],
   "source": [
    "env.df_orders"
   ]
  },
  {
   "cell_type": "code",
   "execution_count": null,
   "metadata": {},
   "outputs": [
    {
     "data": {
      "text/html": [
       "<div>\n",
       "<style scoped>\n",
       "    .dataframe tbody tr th:only-of-type {\n",
       "        vertical-align: middle;\n",
       "    }\n",
       "\n",
       "    .dataframe tbody tr th {\n",
       "        vertical-align: top;\n",
       "    }\n",
       "\n",
       "    .dataframe thead th {\n",
       "        text-align: right;\n",
       "    }\n",
       "</style>\n",
       "<table border=\"1\" class=\"dataframe\">\n",
       "  <thead>\n",
       "    <tr style=\"text-align: right;\">\n",
       "      <th></th>\n",
       "      <th>idx</th>\n",
       "      <th>side</th>\n",
       "      <th>price</th>\n",
       "      <th>amount</th>\n",
       "      <th>ahead</th>\n",
       "      <th>age</th>\n",
       "    </tr>\n",
       "  </thead>\n",
       "  <tbody>\n",
       "    <tr>\n",
       "      <th>0</th>\n",
       "      <td>0</td>\n",
       "      <td>ask</td>\n",
       "      <td>1480.97</td>\n",
       "      <td>200.0</td>\n",
       "      <td>0</td>\n",
       "      <td>0</td>\n",
       "    </tr>\n",
       "    <tr>\n",
       "      <th>1</th>\n",
       "      <td>0</td>\n",
       "      <td>ask</td>\n",
       "      <td>1480.97</td>\n",
       "      <td>200.0</td>\n",
       "      <td>0</td>\n",
       "      <td>0</td>\n",
       "    </tr>\n",
       "    <tr>\n",
       "      <th>2</th>\n",
       "      <td>0</td>\n",
       "      <td>ask</td>\n",
       "      <td>1480.97</td>\n",
       "      <td>200.0</td>\n",
       "      <td>0</td>\n",
       "      <td>0</td>\n",
       "    </tr>\n",
       "  </tbody>\n",
       "</table>\n",
       "</div>"
      ],
      "text/plain": [
       "   idx side    price  amount  ahead  age\n",
       "0    0  ask  1480.97   200.0      0    0\n",
       "1    0  ask  1480.97   200.0      0    0\n",
       "2    0  ask  1480.97   200.0      0    0"
      ]
     },
     "execution_count": null,
     "metadata": {},
     "output_type": "execute_result"
    }
   ],
   "source": [
    "env.build_df_orders([o, o, o])"
   ]
  },
  {
   "cell_type": "code",
   "execution_count": null,
   "metadata": {},
   "outputs": [],
   "source": [
    "# | export\n",
    "\n",
    "\n",
    "@patch\n",
    "def place_orders(self: OrderBookEnv, orders: List[Order]):\n",
    "    out_orders = []\n",
    "    for order in orders:\n",
    "        completed = self.fill_effects(order)\n",
    "        if completed:\n",
    "            out_orders.append(order)\n",
    "\n",
    "    self.df_orders = pd.concat(\n",
    "        [self.df_orders, self.build_df_orders(out_orders)]\n",
    "    ).reset_index(drop=True)\n",
    "\n",
    "    return out_orders"
   ]
  },
  {
   "cell_type": "code",
   "execution_count": null,
   "metadata": {},
   "outputs": [
    {
     "data": {
      "text/plain": [
       "(1296194.0, 800.0)"
      ]
     },
     "execution_count": null,
     "metadata": {},
     "output_type": "execute_result"
    }
   ],
   "source": [
    "env.cash, env.inventory"
   ]
  },
  {
   "cell_type": "code",
   "execution_count": null,
   "metadata": {},
   "outputs": [
    {
     "data": {
      "text/plain": [
       "(2184776.0,\n",
       " 200.0,\n",
       " [Order(idx=0, side='ask', price=1480.97, amount=200.0, ahead=0, age=0),\n",
       "  Order(idx=0, side='ask', price=1480.97, amount=200.0, ahead=0, age=0),\n",
       "  Order(idx=0, side='ask', price=1480.97, amount=200.0, ahead=0, age=0)])"
      ]
     },
     "execution_count": null,
     "metadata": {},
     "output_type": "execute_result"
    }
   ],
   "source": [
    "out_orders = env.place_orders([o, o, o])\n",
    "env.cash, env.inventory, out_orders"
   ]
  },
  {
   "cell_type": "code",
   "execution_count": null,
   "metadata": {},
   "outputs": [],
   "source": [
    "# | export\n",
    "\n",
    "\n",
    "@patch\n",
    "def process_trades(self: OrderBookEnv):\n",
    "    if not self.df_trades.empty:\n",
    "        start_time = self.df_book.index[self.idx]\n",
    "        end_time = self.df_book.index[self.idx + 1]\n",
    "\n",
    "        trades = self.df_trades.loc[start_time:end_time]\n",
    "        trades = trades.replace({\"side\": {\"sell\": \"ask\", \"buy\": \"bid\"}})\n",
    "        trades_sum = trades.groupby(by=[\"side\", \"price\"])[\"amount\"].sum()\n",
    "        orders_combos = self.df_orders[[\"side\", \"price\"]].drop_duplicates()\n",
    "\n",
    "        # print(orders_combos)\n",
    "        for side, price in zip(orders_combos.side, orders_combos.side):\n",
    "            # print(trades_sum)\n",
    "            trades_lookup = trades_sum.get((\"ask\", 1549.22), pd.Series([]))\n",
    "\n",
    "            if trades_lookup.empty:\n",
    "                return\n",
    "\n",
    "            # trades_amount = trades_lookup[\"amount\"][0]\n",
    "            trades_amount = trades_lookup\n",
    "            orders_lookup = self.df_orders.loc[(side, price)]\n",
    "            orders_lookup.sort_values(by=[\"ahead\"], inplace=True)\n",
    "\n",
    "            for oid, order in orders_lookup.iterrows():\n",
    "                if trades_amount <= 0:\n",
    "                    break\n",
    "\n",
    "                ahead = order[\"ahead\"]\n",
    "                amount = order[\"amount\"]\n",
    "\n",
    "                if trades_amount <= ahead:\n",
    "                    self.df_orders.at[oid, \"oid\"] -= trades_amount\n",
    "                    trades_amount = 0\n",
    "                elif (trades_amount > ahead) & ((trades_amount - ahead) <= amount):\n",
    "                    self.df_orders.loc[order_id, \"ahead\"] = 0\n",
    "                    trades_amount -= ahead\n",
    "\n",
    "                    self.df_orders.loc[order_id, \"amount\"] -= trades_amount\n",
    "                    self.fill_effects(side, price, trades_amount)\n",
    "                    trades_amount = 0\n",
    "                elif (trades_amount > ahead) & ((trades_amount - ahead) > amount):\n",
    "                    self.df_orders = self.df_orders[\n",
    "                        self.df_orders.id != order_id\n",
    "                    ].reset_index(drop=True)\n",
    "                    self._fill_effects(side, price, amount)\n",
    "                    trades_amount -= ahead + amount\n",
    "            else:\n",
    "                raise ValueError(trades_amount)"
   ]
  },
  {
   "cell_type": "code",
   "execution_count": null,
   "metadata": {},
   "outputs": [
    {
     "data": {
      "text/plain": [
       "(2184776.0,\n",
       " 200.0,\n",
       "    idx side    price  amount  ahead  age\n",
       " 0  0.0  ask  1480.97   200.0    0.0  0.0\n",
       " 1  0.0  ask  1480.97   200.0    0.0  0.0\n",
       " 2  0.0  ask  1480.97   200.0    0.0  0.0)"
      ]
     },
     "execution_count": null,
     "metadata": {},
     "output_type": "execute_result"
    }
   ],
   "source": [
    "env.cash, env.inventory, env.df_orders"
   ]
  },
  {
   "cell_type": "code",
   "execution_count": null,
   "metadata": {},
   "outputs": [
    {
     "data": {
      "text/plain": [
       "(2184776.0,\n",
       " 200.0,\n",
       "    idx side    price  amount  ahead  age\n",
       " 0  0.0  ask  1480.97   200.0    0.0  0.0\n",
       " 1  0.0  ask  1480.97   200.0    0.0  0.0\n",
       " 2  0.0  ask  1480.97   200.0    0.0  0.0)"
      ]
     },
     "execution_count": null,
     "metadata": {},
     "output_type": "execute_result"
    }
   ],
   "source": [
    "env.process_trades()\n",
    "env.cash, env.inventory, env.df_orders"
   ]
  },
  {
   "cell_type": "code",
   "execution_count": null,
   "metadata": {},
   "outputs": [],
   "source": [
    "# | export\n",
    "\n",
    "\n",
    "@patch\n",
    "def gc_orders(self: OrderBookEnv):\n",
    "    if not self.df_orders.empty:\n",
    "        exp_orders = self.df_orders[self.df_orders.age > self.order_max_age]\n",
    "        del_ids = []\n",
    "        for oid, order in exp_orders.iterrows():\n",
    "            price = order[\"price\"]\n",
    "            amount = order[\"amount\"]\n",
    "            side = order[\"side\"]\n",
    "\n",
    "            if side == \"bid\":\n",
    "                cash = price * amount\n",
    "                self.cash += cash\n",
    "            elif side == \"ask\":\n",
    "                self.inventory += amount\n",
    "\n",
    "            del_ids.append(oid)\n",
    "\n",
    "        self.df_orders = self.df_orders.drop(del_ids).reset_index(drop=True)"
   ]
  },
  {
   "cell_type": "code",
   "execution_count": null,
   "metadata": {},
   "outputs": [
    {
     "data": {
      "text/plain": [
       "(2184776.0,\n",
       " 200.0,\n",
       "    idx side    price  amount  ahead  age\n",
       " 0  0.0  ask  1480.97   200.0    0.0  0.0\n",
       " 1  0.0  ask  1480.97   200.0    0.0  0.0\n",
       " 2  0.0  ask  1480.97   200.0    0.0  0.0)"
      ]
     },
     "execution_count": null,
     "metadata": {},
     "output_type": "execute_result"
    }
   ],
   "source": [
    "# env.place_orders([o]),\n",
    "env.cash, env.inventory, env.df_orders"
   ]
  },
  {
   "cell_type": "code",
   "execution_count": null,
   "metadata": {},
   "outputs": [
    {
     "data": {
      "text/html": [
       "<div>\n",
       "<style scoped>\n",
       "    .dataframe tbody tr th:only-of-type {\n",
       "        vertical-align: middle;\n",
       "    }\n",
       "\n",
       "    .dataframe tbody tr th {\n",
       "        vertical-align: top;\n",
       "    }\n",
       "\n",
       "    .dataframe thead th {\n",
       "        text-align: right;\n",
       "    }\n",
       "</style>\n",
       "<table border=\"1\" class=\"dataframe\">\n",
       "  <thead>\n",
       "    <tr style=\"text-align: right;\">\n",
       "      <th></th>\n",
       "      <th>idx</th>\n",
       "      <th>side</th>\n",
       "      <th>price</th>\n",
       "      <th>amount</th>\n",
       "      <th>ahead</th>\n",
       "      <th>age</th>\n",
       "    </tr>\n",
       "  </thead>\n",
       "  <tbody>\n",
       "    <tr>\n",
       "      <th>0</th>\n",
       "      <td>0.0</td>\n",
       "      <td>ask</td>\n",
       "      <td>1480.97</td>\n",
       "      <td>200.0</td>\n",
       "      <td>0.0</td>\n",
       "      <td>0.0</td>\n",
       "    </tr>\n",
       "    <tr>\n",
       "      <th>1</th>\n",
       "      <td>0.0</td>\n",
       "      <td>ask</td>\n",
       "      <td>1480.97</td>\n",
       "      <td>200.0</td>\n",
       "      <td>0.0</td>\n",
       "      <td>10.0</td>\n",
       "    </tr>\n",
       "    <tr>\n",
       "      <th>2</th>\n",
       "      <td>0.0</td>\n",
       "      <td>ask</td>\n",
       "      <td>1480.97</td>\n",
       "      <td>200.0</td>\n",
       "      <td>0.0</td>\n",
       "      <td>0.0</td>\n",
       "    </tr>\n",
       "  </tbody>\n",
       "</table>\n",
       "</div>"
      ],
      "text/plain": [
       "   idx side    price  amount  ahead   age\n",
       "0  0.0  ask  1480.97   200.0    0.0   0.0\n",
       "1  0.0  ask  1480.97   200.0    0.0  10.0\n",
       "2  0.0  ask  1480.97   200.0    0.0   0.0"
      ]
     },
     "execution_count": null,
     "metadata": {},
     "output_type": "execute_result"
    }
   ],
   "source": [
    "env.df_orders.at[1, \"age\"] = 10\n",
    "env.df_orders"
   ]
  },
  {
   "cell_type": "code",
   "execution_count": null,
   "metadata": {},
   "outputs": [
    {
     "data": {
      "text/html": [
       "<div>\n",
       "<style scoped>\n",
       "    .dataframe tbody tr th:only-of-type {\n",
       "        vertical-align: middle;\n",
       "    }\n",
       "\n",
       "    .dataframe tbody tr th {\n",
       "        vertical-align: top;\n",
       "    }\n",
       "\n",
       "    .dataframe thead th {\n",
       "        text-align: right;\n",
       "    }\n",
       "</style>\n",
       "<table border=\"1\" class=\"dataframe\">\n",
       "  <thead>\n",
       "    <tr style=\"text-align: right;\">\n",
       "      <th></th>\n",
       "      <th>idx</th>\n",
       "      <th>side</th>\n",
       "      <th>price</th>\n",
       "      <th>amount</th>\n",
       "      <th>ahead</th>\n",
       "      <th>age</th>\n",
       "    </tr>\n",
       "  </thead>\n",
       "  <tbody>\n",
       "    <tr>\n",
       "      <th>0</th>\n",
       "      <td>0.0</td>\n",
       "      <td>ask</td>\n",
       "      <td>1480.97</td>\n",
       "      <td>200.0</td>\n",
       "      <td>0.0</td>\n",
       "      <td>0.0</td>\n",
       "    </tr>\n",
       "    <tr>\n",
       "      <th>1</th>\n",
       "      <td>0.0</td>\n",
       "      <td>ask</td>\n",
       "      <td>1480.97</td>\n",
       "      <td>200.0</td>\n",
       "      <td>0.0</td>\n",
       "      <td>10.0</td>\n",
       "    </tr>\n",
       "    <tr>\n",
       "      <th>2</th>\n",
       "      <td>0.0</td>\n",
       "      <td>ask</td>\n",
       "      <td>1480.97</td>\n",
       "      <td>200.0</td>\n",
       "      <td>0.0</td>\n",
       "      <td>0.0</td>\n",
       "    </tr>\n",
       "  </tbody>\n",
       "</table>\n",
       "</div>"
      ],
      "text/plain": [
       "   idx side    price  amount  ahead   age\n",
       "0  0.0  ask  1480.97   200.0    0.0   0.0\n",
       "1  0.0  ask  1480.97   200.0    0.0  10.0\n",
       "2  0.0  ask  1480.97   200.0    0.0   0.0"
      ]
     },
     "execution_count": null,
     "metadata": {},
     "output_type": "execute_result"
    }
   ],
   "source": [
    "env.gc_orders()\n",
    "env.df_orders"
   ]
  },
  {
   "cell_type": "code",
   "execution_count": null,
   "metadata": {},
   "outputs": [],
   "source": [
    "# | export\n",
    "\n",
    "\n",
    "@patch\n",
    "def convert_action(self: OrderBookEnv, action: Tuple[str, float, float]):\n",
    "    \"\"\"Convert tuple of (side, price, amount) to order object.\"\"\"\n",
    "    side, price, amount = action\n",
    "    order = self.build_order(side, price, amount)\n",
    "\n",
    "    return order"
   ]
  },
  {
   "cell_type": "code",
   "execution_count": null,
   "metadata": {},
   "outputs": [
    {
     "data": {
      "text/plain": [
       "(array([1480.66, 1480.67, 1480.82, 1480.97, 1480.98, 1480.99, 1481.  ,\n",
       "        1481.01, 1481.08, 1481.11]),\n",
       " 2184776.0,\n",
       " 200.0,\n",
       " Order(idx=0, side='ask', price=1480.82, amount=40.0, ahead=0, age=0))"
      ]
     },
     "execution_count": null,
     "metadata": {},
     "output_type": "execute_result"
    }
   ],
   "source": [
    "act = (\"ask\", 2, 0.2)\n",
    "env.book_prices_ask, env.cash, env.inventory, env.convert_action(act)"
   ]
  },
  {
   "cell_type": "code",
   "execution_count": null,
   "metadata": {},
   "outputs": [],
   "source": [
    "@patch\n",
    "def render(self: OrderBookEnv):\n",
    "    if self.render_mode:\n",
    "        return self.render_frame()"
   ]
  },
  {
   "cell_type": "code",
   "execution_count": null,
   "metadata": {},
   "outputs": [],
   "source": [
    "# | export\n",
    "\n",
    "\n",
    "@patch\n",
    "def render_frame(self: OrderBookEnv):\n",
    "    raise NotImplementedError"
   ]
  },
  {
   "cell_type": "code",
   "execution_count": null,
   "metadata": {},
   "outputs": [],
   "source": [
    "# | export\n",
    "\n",
    "\n",
    "@patch\n",
    "def step(self: OrderBookEnv, actions: List[Tuple[str, float, float]]):\n",
    "    print(actions)\n",
    "    act_orders = []\n",
    "    for action in actions:\n",
    "        if action is not None:\n",
    "            order = self.convert_action(action)\n",
    "            act_orders.append(order)\n",
    "\n",
    "    # TODO: Review this first section\n",
    "    completed_orders = self.place_orders(act_orders)\n",
    "\n",
    "    self.gc_orders()\n",
    "    self.process_trades()\n",
    "\n",
    "    if not self.df_orders.empty:\n",
    "        self.df_orders.age += 1\n",
    "\n",
    "    self.idx += 1\n",
    "    done = False\n",
    "    # TODO: Create new is_done function if more conditions for ending\n",
    "    if self.idx == self.idx_end or self.portfolio_value < self.min_value:\n",
    "        done = True\n",
    "\n",
    "    # TODO: What is the reward function\n",
    "    current_value = self.get_pv()\n",
    "    reward = current_value - self.portfolio_value\n",
    "    self.portfolio_value = current_value\n",
    "    self.total_reward += reward\n",
    "\n",
    "    self.update_book()\n",
    "    self.update_order_volumes()\n",
    "\n",
    "    observations = self.get_obs()\n",
    "    info = self.get_info()\n",
    "    self.state = observations\n",
    "    self.info = info\n",
    "\n",
    "    if self.render_mode:\n",
    "        self.render()\n",
    "\n",
    "    return observations, reward, done, info"
   ]
  },
  {
   "cell_type": "code",
   "execution_count": null,
   "metadata": {},
   "outputs": [
    {
     "data": {
      "text/plain": [
       "(array([1.500000e+01, 3.150020e+00, 6.378770e+00, 1.503374e+01,\n",
       "        4.091820e+00, 1.070000e+00, 3.210000e-01, 4.601000e+00,\n",
       "        1.507110e+00, 1.298630e+00, 7.349200e-01, 5.729470e+00,\n",
       "        2.474070e+00, 2.882000e-01, 5.542400e-01, 2.639190e+00,\n",
       "        8.807530e+00, 3.251250e+01, 3.376740e+00, 2.746670e+00,\n",
       "        0.000000e+00, 0.000000e+00, 0.000000e+00, 0.000000e+00,\n",
       "        0.000000e+00, 0.000000e+00, 0.000000e+00, 0.000000e+00,\n",
       "        0.000000e+00, 0.000000e+00, 0.000000e+00, 0.000000e+00,\n",
       "        0.000000e+00, 0.000000e+00, 0.000000e+00, 0.000000e+00,\n",
       "        0.000000e+00, 0.000000e+00, 0.000000e+00, 0.000000e+00,\n",
       "        1.000000e+06, 1.000000e+03]),\n",
       " {'idx': 0,\n",
       "  'timestamp': '2021-03-05 06:16:00',\n",
       "  'cash': 1000000,\n",
       "  'inventory': 1000,\n",
       "  'portfolio_value': 2480655.0})"
      ]
     },
     "execution_count": null,
     "metadata": {},
     "output_type": "execute_result"
    }
   ],
   "source": [
    "env.reset()"
   ]
  },
  {
   "cell_type": "code",
   "execution_count": null,
   "metadata": {},
   "outputs": [
    {
     "name": "stdout",
     "output_type": "stream",
     "text": [
      "[('ask', 2, 0.1), ('bid', 3, 0.2), ('ask', 1, 0.3)]\n"
     ]
    },
    {
     "data": {
      "text/plain": [
       "{'idx': 1,\n",
       " 'timestamp': '2021-03-05 06:17:00',\n",
       " 'cash': 1392283.0,\n",
       " 'inventory': 735.0867594712704,\n",
       " 'portfolio_value': 2482199.81370185}"
      ]
     },
     "execution_count": null,
     "metadata": {},
     "output_type": "execute_result"
    }
   ],
   "source": [
    "a1 = (\"ask\", 2, 0.1)\n",
    "a2 = (\"bid\", 3, 0.2)\n",
    "a3 = (\"ask\", 1, 0.3)\n",
    "env.step([a1, a2, a3])\n",
    "env.info"
   ]
  },
  {
   "cell_type": "code",
   "execution_count": null,
   "metadata": {},
   "outputs": [],
   "source": [
    "# | export\n",
    "\n",
    "\n",
    "@patch\n",
    "def render_frame(self: OrderBookEnv):\n",
    "    raise NotImplementedError"
   ]
  },
  {
   "cell_type": "code",
   "execution_count": null,
   "metadata": {},
   "outputs": [],
   "source": [
    "# | export\n",
    "\n",
    "\n",
    "@patch\n",
    "def render(self: OrderBookEnv):\n",
    "    if self.render_mode == \"human\":\n",
    "        self.render_frame()"
   ]
  },
  {
   "cell_type": "code",
   "execution_count": null,
   "metadata": {},
   "outputs": [],
   "source": [
    "# | export\n",
    "\n",
    "\n",
    "@patch\n",
    "def close(self: OrderBookEnv):\n",
    "    raise NotImplementedError"
   ]
  },
  {
   "cell_type": "code",
   "execution_count": null,
   "metadata": {},
   "outputs": [],
   "source": [
    "# | hide\n",
    "import nbdev\n",
    "\n",
    "nbdev.nbdev_export()"
   ]
  },
  {
   "cell_type": "code",
   "execution_count": null,
   "metadata": {},
   "outputs": [],
   "source": []
  }
 ],
 "metadata": {
  "kernelspec": {
   "display_name": "python3",
   "language": "python",
   "name": "python3"
  }
 },
 "nbformat": 4,
 "nbformat_minor": 4
}
