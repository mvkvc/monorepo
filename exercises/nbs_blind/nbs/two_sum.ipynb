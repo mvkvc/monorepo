{
 "cells": [
  {
   "cell_type": "markdown",
   "id": "a9c49430-ef73-4cf7-898c-699527aa61a5",
   "metadata": {},
   "source": [
    "### Problem Description\n",
    "\n",
    "Given an array of integers nums and an integer target, return indices of the two numbers such that they add up to target.\n",
    "\n",
    "You may assume that each input would have exactly one solution, and you may not use the same element twice.\n",
    "\n",
    "You can return the answer in any order.\n",
    "\n",
    "Example 1:\n",
    "\n",
    "Input: nums = [2,7,11,15], target = 9\n",
    "\n",
    "Output: [0,1]\n",
    "\n",
    "Explanation: Because nums[0] + nums[1] == 9, we return [0, 1].\n",
    "\n",
    "Example 2:\n",
    "\n",
    "Input: nums = [3,2,4], target = 6\n",
    "\n",
    "Output: [1,2]\n",
    "\n",
    "Example 3:\n",
    "\n",
    "Input: nums = [3,3], target = 6\n",
    "\n",
    "Output: [0,1]\n",
    "\n",
    "Constraints:\n",
    "\n",
    "2 <= nums.length <= 104\n",
    "\n",
    "-109 <= nums[i] <= 109\n",
    "\n",
    "-109 <= target <= 109\n",
    "\n",
    "Only one valid answer exists.\n",
    "\n",
    "Follow-up: Can you come up with an algorithm that is less than O(n2) time complexity?"
   ]
  },
  {
   "cell_type": "code",
   "execution_count": 27,
   "id": "2f680ca1-2218-44d2-a5e1-0d47b345add7",
   "metadata": {
    "tags": []
   },
   "outputs": [],
   "source": [
    "def two_sum(nums: list[int], target: int) -> list[int]:\n",
    "    for i in range(0, len(nums)):\n",
    "        for j in range(i+1, len(nums)):\n",
    "            two_sum = nums[i] + nums[j]\n",
    "            if two_sum == target:\n",
    "                return [i, j]"
   ]
  },
  {
   "cell_type": "code",
   "execution_count": 29,
   "id": "c1613bd0-5f93-4463-b88f-789ae33f1daa",
   "metadata": {
    "tags": []
   },
   "outputs": [],
   "source": [
    "def two_sum(nums: list[int], target: int) -> list[int]:\n",
    "    hist = {}\n",
    "    for i in range(0, len(nums)):\n",
    "        complement = target - nums[i]\n",
    "        if complement in hist.keys():\n",
    "            return [hist[complement], i]\n",
    "        hist[nums[i]] = i"
   ]
  },
  {
   "cell_type": "code",
   "execution_count": 30,
   "id": "72ff75ed-af29-472c-bb62-9f6ee15d7f94",
   "metadata": {
    "tags": []
   },
   "outputs": [
    {
     "name": "stderr",
     "output_type": "stream",
     "text": [
      "test_two_sum (__main__.Test) ... ok\n",
      "\n",
      "----------------------------------------------------------------------\n",
      "Ran 1 test in 0.002s\n",
      "\n",
      "OK\n"
     ]
    },
    {
     "data": {
      "text/plain": [
       "<unittest.main.TestProgram at 0x7f1d1a70ec20>"
      ]
     },
     "execution_count": 30,
     "metadata": {},
     "output_type": "execute_result"
    }
   ],
   "source": [
    "import unittest\n",
    "\n",
    "class Test(unittest.TestCase):\n",
    "    def test_two_sum(self):\n",
    "        self.assertEqual(two_sum([2, 7, 11, 15], 9), [0, 1])\n",
    "        self.assertEqual(two_sum([3, 2, 4], 6), [1, 2])\n",
    "        self.assertEqual(two_sum([3, 3], 6), [0, 1])\n",
    "        \n",
    "unittest.main(argv=[''], verbosity=2, exit=False)"
   ]
  },
  {
   "cell_type": "code",
   "execution_count": null,
   "id": "ca19854a-9b1a-49f4-877a-48cc4974d256",
   "metadata": {},
   "outputs": [],
   "source": []
  }
 ],
 "metadata": {
  "kernelspec": {
   "display_name": "Python 3 (ipykernel)",
   "language": "python",
   "name": "python3"
  },
  "language_info": {
   "codemirror_mode": {
    "name": "ipython",
    "version": 3
   },
   "file_extension": ".py",
   "mimetype": "text/x-python",
   "name": "python",
   "nbconvert_exporter": "python",
   "pygments_lexer": "ipython3",
   "version": "3.10.6"
  }
 },
 "nbformat": 4,
 "nbformat_minor": 5
}
