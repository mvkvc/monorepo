{
 "cells": [
  {
   "cell_type": "markdown",
   "id": "2b9f93bd-b73d-43c5-8df8-1ca2f3be255e",
   "metadata": {},
   "source": [
    "### Problem Description\n",
    "\n",
    "You are given an array prices where prices[i] is the price of a given stock on the ith day.\n",
    "\n",
    "You want to maximize your profit by choosing a single day to buy one stock and choosing a different day in the future to sell that stock.\n",
    "\n",
    "Return the maximum profit you can achieve from this transaction. If you cannot achieve any profit, return 0.\n",
    "\n",
    "Example 1:\n",
    "\n",
    "Input: prices = [7,1,5,3,6,4]\n",
    "Output: 5\n",
    "Explanation: Buy on day 2 (price = 1) and sell on day 5 (price = 6), profit = 6-1 = 5.\n",
    "Note that buying on day 2 and selling on day 1 is not allowed because you must buy before you sell.\n",
    "\n",
    "Example 2:\n",
    "\n",
    "Input: prices = [7,6,4,3,1]\n",
    "Output: 0\n",
    "Explanation: In this case, no transactions are done and the max profit = 0.\n",
    "\n",
    "Constraints:\n",
    "\n",
    "1 <= prices.length <= 105\n",
    "0 <= prices[i] <= 104"
   ]
  },
  {
   "cell_type": "code",
   "execution_count": 8,
   "id": "1351cdd0-4442-4a92-8e3b-16bba7fc6d13",
   "metadata": {
    "tags": []
   },
   "outputs": [],
   "source": [
    "def max_profit(prices: list[int]) -> int:\n",
    "    max_profit = 0\n",
    "    for i in range(0, len(prices)):\n",
    "        for j in range(i+1, len(prices)):\n",
    "            profit = prices[j] - prices[i]\n",
    "            if profit > max_profit:\n",
    "                max_profit = profit\n",
    "                \n",
    "    return max_profit"
   ]
  },
  {
   "cell_type": "code",
   "execution_count": 9,
   "id": "5a0f37d8-49e0-41aa-b349-bf8c49664867",
   "metadata": {
    "tags": []
   },
   "outputs": [],
   "source": [
    "def max_profit(prices: list[int]) -> int:\n",
    "    min_price = float('inf')\n",
    "    max_profit = 0\n",
    "    for i in range(0, len(prices)):\n",
    "        if prices[i] < min_price:\n",
    "            min_price = prices[i]\n",
    "        elif prices[i] - min_price > max_profit:\n",
    "            max_profit = prices[i] - min_price\n",
    "                   \n",
    "    return max_profit"
   ]
  },
  {
   "cell_type": "code",
   "execution_count": 10,
   "id": "6f3ba9c6-0592-4a73-a3ba-76e96714cf85",
   "metadata": {
    "tags": []
   },
   "outputs": [
    {
     "name": "stderr",
     "output_type": "stream",
     "text": [
      "test_max_profit (__main__.Test) ... ok\n",
      "\n",
      "----------------------------------------------------------------------\n",
      "Ran 1 test in 0.001s\n",
      "\n",
      "OK\n"
     ]
    },
    {
     "data": {
      "text/plain": [
       "<unittest.main.TestProgram at 0x7f6d93493a30>"
      ]
     },
     "execution_count": 10,
     "metadata": {},
     "output_type": "execute_result"
    }
   ],
   "source": [
    "import unittest\n",
    "\n",
    "class Test(unittest.TestCase):\n",
    "    def test_max_profit(self):\n",
    "        self.assertEqual(max_profit([7,1,5,3,6,4]), 5)\n",
    "        self.assertEqual(max_profit([7,6,4,3,1]), 0)\n",
    "        \n",
    "unittest.main(argv=[''], verbosity=2, exit=False)"
   ]
  },
  {
   "cell_type": "code",
   "execution_count": null,
   "id": "f5028d54-a091-42f7-a68c-96b4d54119ee",
   "metadata": {},
   "outputs": [],
   "source": []
  }
 ],
 "metadata": {
  "kernelspec": {
   "display_name": "Python 3 (ipykernel)",
   "language": "python",
   "name": "python3"
  },
  "language_info": {
   "codemirror_mode": {
    "name": "ipython",
    "version": 3
   },
   "file_extension": ".py",
   "mimetype": "text/x-python",
   "name": "python",
   "nbconvert_exporter": "python",
   "pygments_lexer": "ipython3",
   "version": "3.10.6"
  }
 },
 "nbformat": 4,
 "nbformat_minor": 5
}
