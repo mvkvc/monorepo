{
 "cells": [
  {
   "cell_type": "markdown",
   "id": "2b9f93bd-b73d-43c5-8df8-1ca2f3be255e",
   "metadata": {},
   "source": [
    "### Problem Description\n",
    "\n",
    "HELLO"
   ]
  },
  {
   "cell_type": "code",
   "execution_count": 3,
   "id": "5a0f37d8-49e0-41aa-b349-bf8c49664867",
   "metadata": {
    "tags": []
   },
   "outputs": [],
   "source": [
    "def fn() -> None:\n",
    "    pass"
   ]
  },
  {
   "cell_type": "code",
   "execution_count": 6,
   "id": "6f3ba9c6-0592-4a73-a3ba-76e96714cf85",
   "metadata": {
    "tags": []
   },
   "outputs": [
    {
     "name": "stderr",
     "output_type": "stream",
     "text": [
      "test_fn (__main__.Test) ... ok\n",
      "\n",
      "----------------------------------------------------------------------\n",
      "Ran 1 test in 0.002s\n",
      "\n",
      "OK\n"
     ]
    },
    {
     "data": {
      "text/plain": [
       "<unittest.main.TestProgram at 0x7fc2820d3e80>"
      ]
     },
     "execution_count": 6,
     "metadata": {},
     "output_type": "execute_result"
    }
   ],
   "source": [
    "import unittest\n",
    "\n",
    "class Test(unittest.TestCase):\n",
    "    def test_fn(self):\n",
    "        self.assertEqual(fn(), None)\n",
    "        \n",
    "unittest.main(argv=[''], verbosity=2, exit=False)"
   ]
  },
  {
   "cell_type": "code",
   "execution_count": null,
   "id": "f5028d54-a091-42f7-a68c-96b4d54119ee",
   "metadata": {},
   "outputs": [],
   "source": []
  }
 ],
 "metadata": {
  "kernelspec": {
   "display_name": "Python 3 (ipykernel)",
   "language": "python",
   "name": "python3"
  },
  "language_info": {
   "codemirror_mode": {
    "name": "ipython",
    "version": 3
   },
   "file_extension": ".py",
   "mimetype": "text/x-python",
   "name": "python",
   "nbconvert_exporter": "python",
   "pygments_lexer": "ipython3",
   "version": "3.10.6"
  }
 },
 "nbformat": 4,
 "nbformat_minor": 5
}
