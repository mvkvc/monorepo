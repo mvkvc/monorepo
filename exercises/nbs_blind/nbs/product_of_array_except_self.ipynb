{
 "cells": [
  {
   "cell_type": "markdown",
   "id": "2b9f93bd-b73d-43c5-8df8-1ca2f3be255e",
   "metadata": {},
   "source": [
    "### Problem Description\n",
    "\n",
    "Given an integer array nums, return an array answer such that answer[i] is equal to the product of all the elements of nums except nums[i].\n",
    "\n",
    "The product of any prefix or suffix of nums is guaranteed to fit in a 32-bit integer.\n",
    "\n",
    "You must write an algorithm that runs in O(n) time and without using the division operation.\n",
    "\n",
    "Example 1:\n",
    "\n",
    "Input: nums = [1,2,3,4]\n",
    "Output: [24,12,8,6]\n",
    "\n",
    "Example 2:\n",
    "\n",
    "Input: nums = [-1,1,0,-3,3]\n",
    "Output: [0,0,9,0,0]\n",
    "\n",
    "Constraints:\n",
    "\n",
    "2 <= nums.length <= 105\n",
    "-30 <= nums[i] <= 30\n",
    "The product of any prefix or suffix of nums is guaranteed to fit in a 32-bit integer.\n",
    "\n",
    "Follow up: Can you solve the problem in O(1) extra space complexity? (The output array does not count as extra space for space complexity analysis.)"
   ]
  },
  {
   "cell_type": "code",
   "execution_count": 7,
   "id": "5a0f37d8-49e0-41aa-b349-bf8c49664867",
   "metadata": {
    "tags": []
   },
   "outputs": [],
   "source": [
    "def product_of_array_except_self(nums: list[int]) -> list[int]:\n",
    "    return []"
   ]
  },
  {
   "cell_type": "code",
   "execution_count": 8,
   "id": "6f3ba9c6-0592-4a73-a3ba-76e96714cf85",
   "metadata": {
    "tags": []
   },
   "outputs": [
    {
     "name": "stderr",
     "output_type": "stream",
     "text": [
      "test_product_of_array_except_self (__main__.Test) ... FAIL\n",
      "\n",
      "======================================================================\n",
      "FAIL: test_product_of_array_except_self (__main__.Test)\n",
      "----------------------------------------------------------------------\n",
      "Traceback (most recent call last):\n",
      "  File \"/tmp/ipykernel_66317/1322381315.py\", line 5, in test_product_of_array_except_self\n",
      "    self.assertEqual(product_of_array_except_self([1,2,3,4]), [24,12,8,6])\n",
      "AssertionError: Lists differ: [] != [24, 12, 8, 6]\n",
      "\n",
      "Second list contains 4 additional elements.\n",
      "First extra element 0:\n",
      "24\n",
      "\n",
      "- []\n",
      "+ [24, 12, 8, 6]\n",
      "\n",
      "----------------------------------------------------------------------\n",
      "Ran 1 test in 0.001s\n",
      "\n",
      "FAILED (failures=1)\n"
     ]
    },
    {
     "data": {
      "text/plain": [
       "<unittest.main.TestProgram at 0x7f2c593de7d0>"
      ]
     },
     "execution_count": 8,
     "metadata": {},
     "output_type": "execute_result"
    }
   ],
   "source": [
    "import unittest\n",
    "\n",
    "class Test(unittest.TestCase):\n",
    "    def test_product_of_array_except_self(self):\n",
    "        self.assertEqual(product_of_array_except_self([1,2,3,4]), [24,12,8,6])\n",
    "        self.assertEqual(product_of_array_except_self([-1,1,0,-3,3]), [0,0,9,0,0])\n",
    "        \n",
    "unittest.main(argv=[''], verbosity=2, exit=False)"
   ]
  },
  {
   "cell_type": "code",
   "execution_count": null,
   "id": "f5028d54-a091-42f7-a68c-96b4d54119ee",
   "metadata": {},
   "outputs": [],
   "source": []
  }
 ],
 "metadata": {
  "kernelspec": {
   "display_name": "Python 3 (ipykernel)",
   "language": "python",
   "name": "python3"
  },
  "language_info": {
   "codemirror_mode": {
    "name": "ipython",
    "version": 3
   },
   "file_extension": ".py",
   "mimetype": "text/x-python",
   "name": "python",
   "nbconvert_exporter": "python",
   "pygments_lexer": "ipython3",
   "version": "3.10.6"
  }
 },
 "nbformat": 4,
 "nbformat_minor": 5
}
