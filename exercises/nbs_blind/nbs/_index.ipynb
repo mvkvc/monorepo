{
 "cells": [
  {
   "cell_type": "markdown",
   "id": "7ab9d423-35b7-45b8-947a-dd9893edc523",
   "metadata": {},
   "source": [
    "# Index"
   ]
  },
  {
   "cell_type": "markdown",
   "id": "4c4d19d5-bb81-412d-9eda-d73c9d9e6091",
   "metadata": {
    "tags": []
   },
   "source": [
    "## Array"
   ]
  },
  {
   "cell_type": "markdown",
   "id": "53db3d74-8178-4c00-887d-0e8ee6935281",
   "metadata": {},
   "source": [
    "[Two Sum](./two_sum.ipynb)"
   ]
  },
  {
   "cell_type": "markdown",
   "id": "b4e123f1-8af4-417f-b3bd-b703ca77c94b",
   "metadata": {},
   "source": [
    "[Max Profit](./max_profit.ipynb)"
   ]
  },
  {
   "cell_type": "markdown",
   "id": "eb9603fa-276b-4632-857c-62b2100c5f5e",
   "metadata": {},
   "source": [
    "[Contains Duplicate](./contains_duplicate.ipynb)"
   ]
  },
  {
   "cell_type": "markdown",
   "id": "aa837826-cc16-4bef-b5da-0786768324f6",
   "metadata": {},
   "source": [
    "[Product of Array Except Self](./product_of_array_except_self.ipynb)"
   ]
  },
  {
   "cell_type": "markdown",
   "id": "e59bed6f-b7b3-4faa-81e4-22cb12e1f14d",
   "metadata": {
    "tags": []
   },
   "source": [
    "## Binary"
   ]
  },
  {
   "cell_type": "markdown",
   "id": "9f1dec93-dfbb-42ff-8044-3370ff51ff6d",
   "metadata": {
    "tags": []
   },
   "source": [
    "## Dynamic Programming"
   ]
  },
  {
   "cell_type": "markdown",
   "id": "4070c1cd-dfa7-490d-bc3d-2f9289e1acf5",
   "metadata": {
    "tags": []
   },
   "source": [
    "## Graph"
   ]
  },
  {
   "cell_type": "markdown",
   "id": "929d8ec8-7cf8-4601-bd41-a4b9831affcf",
   "metadata": {
    "tags": []
   },
   "source": [
    "## Interval"
   ]
  },
  {
   "cell_type": "markdown",
   "id": "a2496c8d-e874-4944-982c-df60b788b2b1",
   "metadata": {
    "tags": []
   },
   "source": [
    "## Linked List"
   ]
  },
  {
   "cell_type": "markdown",
   "id": "44523378-81a2-4610-a5d3-aff99012e88b",
   "metadata": {
    "tags": []
   },
   "source": [
    "## Matrix"
   ]
  },
  {
   "cell_type": "markdown",
   "id": "2eae188a-c5ea-4435-9b04-a2c0c83f0eda",
   "metadata": {
    "tags": []
   },
   "source": [
    "## String"
   ]
  },
  {
   "cell_type": "markdown",
   "id": "a31c6ab7-6cd9-41d1-b220-56d53cdfc011",
   "metadata": {
    "tags": []
   },
   "source": [
    "## Tree"
   ]
  },
  {
   "cell_type": "markdown",
   "id": "70a1edba-44bc-417b-bddc-10e7b260cf34",
   "metadata": {
    "tags": []
   },
   "source": [
    "## Head"
   ]
  }
 ],
 "metadata": {
  "kernelspec": {
   "display_name": "Python 3 (ipykernel)",
   "language": "python",
   "name": "python3"
  },
  "language_info": {
   "codemirror_mode": {
    "name": "ipython",
    "version": 3
   },
   "file_extension": ".py",
   "mimetype": "text/x-python",
   "name": "python",
   "nbconvert_exporter": "python",
   "pygments_lexer": "ipython3",
   "version": "3.10.6"
  }
 },
 "nbformat": 4,
 "nbformat_minor": 5
}
